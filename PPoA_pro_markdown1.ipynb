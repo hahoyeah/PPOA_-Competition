{
  "nbformat": 4,
  "nbformat_minor": 0,
  "metadata": {
    "colab": {
      "provenance": [],
      "toc_visible": true,
      "include_colab_link": true
    },
    "kernelspec": {
      "name": "python3",
      "display_name": "Python 3"
    },
    "language_info": {
      "name": "python"
    }
  },
  "cells": [
    {
      "cell_type": "markdown",
      "metadata": {
        "id": "view-in-github",
        "colab_type": "text"
      },
      "source": [
        "<a href=\"https://colab.research.google.com/github/hahoyeah/PPOA_-Competition/blob/main/PPoA_pro_markdown1.ipynb\" target=\"_parent\"><img src=\"https://colab.research.google.com/assets/colab-badge.svg\" alt=\"Open In Colab\"/></a>"
      ]
    },
    {
      "cell_type": "code",
      "source": [
        "import sys\n",
        "print(sys.version)"
      ],
      "metadata": {
        "colab": {
          "base_uri": "https://localhost:8080/"
        },
        "id": "16IZLXfQMQYk",
        "outputId": "f44fe970-804c-474c-91fb-38265ef5e797"
      },
      "execution_count": null,
      "outputs": [
        {
          "output_type": "stream",
          "name": "stdout",
          "text": [
            "3.7.15 (default, Oct 12 2022, 19:14:55) \n",
            "[GCC 7.5.0]\n"
          ]
        }
      ]
    },
    {
      "cell_type": "code",
      "source": [
        "!sudo apt-get install -y fonts-nanum\n",
        "!sudo fc-cache -fv\n",
        "!rm ~/.cache/matplotlib -rf\n",
        "!pip install pandasql"
      ],
      "metadata": {
        "colab": {
          "base_uri": "https://localhost:8080/"
        },
        "id": "Uc2ZS6Kl76DJ",
        "outputId": "37af1f2b-af61-43a3-80ac-0f2f33715a50"
      },
      "execution_count": null,
      "outputs": [
        {
          "output_type": "stream",
          "name": "stdout",
          "text": [
            "Reading package lists... Done\n",
            "Building dependency tree       \n",
            "Reading state information... Done\n",
            "fonts-nanum is already the newest version (20170925-1).\n",
            "The following package was automatically installed and is no longer required:\n",
            "  libnvidia-common-460\n",
            "Use 'sudo apt autoremove' to remove it.\n",
            "0 upgraded, 0 newly installed, 0 to remove and 4 not upgraded.\n",
            "/usr/share/fonts: caching, new cache contents: 0 fonts, 1 dirs\n",
            "/usr/share/fonts/truetype: caching, new cache contents: 0 fonts, 3 dirs\n",
            "/usr/share/fonts/truetype/humor-sans: caching, new cache contents: 1 fonts, 0 dirs\n",
            "/usr/share/fonts/truetype/liberation: caching, new cache contents: 16 fonts, 0 dirs\n",
            "/usr/share/fonts/truetype/nanum: caching, new cache contents: 10 fonts, 0 dirs\n",
            "/usr/local/share/fonts: caching, new cache contents: 0 fonts, 0 dirs\n",
            "/root/.local/share/fonts: skipping, no such directory\n",
            "/root/.fonts: skipping, no such directory\n",
            "/var/cache/fontconfig: cleaning cache directory\n",
            "/root/.cache/fontconfig: not cleaning non-existent cache directory\n",
            "/root/.fontconfig: not cleaning non-existent cache directory\n",
            "fc-cache: succeeded\n",
            "Looking in indexes: https://pypi.org/simple, https://us-python.pkg.dev/colab-wheels/public/simple/\n",
            "Requirement already satisfied: pandasql in /usr/local/lib/python3.7/dist-packages (0.7.3)\n",
            "Requirement already satisfied: sqlalchemy in /usr/local/lib/python3.7/dist-packages (from pandasql) (1.4.42)\n",
            "Requirement already satisfied: pandas in /usr/local/lib/python3.7/dist-packages (from pandasql) (1.3.5)\n",
            "Requirement already satisfied: numpy in /usr/local/lib/python3.7/dist-packages (from pandasql) (1.21.6)\n",
            "Requirement already satisfied: python-dateutil>=2.7.3 in /usr/local/lib/python3.7/dist-packages (from pandas->pandasql) (2.8.2)\n",
            "Requirement already satisfied: pytz>=2017.3 in /usr/local/lib/python3.7/dist-packages (from pandas->pandasql) (2022.5)\n",
            "Requirement already satisfied: six>=1.5 in /usr/local/lib/python3.7/dist-packages (from python-dateutil>=2.7.3->pandas->pandasql) (1.15.0)\n",
            "Requirement already satisfied: importlib-metadata in /usr/local/lib/python3.7/dist-packages (from sqlalchemy->pandasql) (4.13.0)\n",
            "Requirement already satisfied: greenlet!=0.4.17 in /usr/local/lib/python3.7/dist-packages (from sqlalchemy->pandasql) (1.1.3.post0)\n",
            "Requirement already satisfied: zipp>=0.5 in /usr/local/lib/python3.7/dist-packages (from importlib-metadata->sqlalchemy->pandasql) (3.10.0)\n",
            "Requirement already satisfied: typing-extensions>=3.6.4 in /usr/local/lib/python3.7/dist-packages (from importlib-metadata->sqlalchemy->pandasql) (4.1.1)\n"
          ]
        }
      ]
    },
    {
      "cell_type": "code",
      "source": [
        "import pandas as pd\n",
        "import numpy as np\n",
        "from tqdm import tqdm\n",
        "import warnings\n",
        "from glob import glob\n",
        "import tensorflow as tf\n",
        "from tensorflow.keras.callbacks import EarlyStopping, ModelCheckpoint\n",
        "from tensorflow import keras\n",
        "from tensorflow.keras import layers\n",
        "from keras.layers import LSTM   # LSTM 층 \n",
        "from sklearn.model_selection import train_test_split\n",
        "import random\n",
        "import os\n",
        "import seaborn as sns\n",
        "\n",
        "\n",
        "# 경고 끄기\n",
        "warnings.filterwarnings(action='ignore')\n",
        "\n",
        "# 시드고정\n",
        "tf.random.set_seed(19970119)\n",
        "random.seed(19970119)\n",
        "np.random.seed(19970119)"
      ],
      "metadata": {
        "id": "3DhPf9zR3xia"
      },
      "execution_count": null,
      "outputs": []
    },
    {
      "cell_type": "code",
      "source": [
        "import matplotlib.pyplot as plt\n",
        "plt.rc('font', family='NanumBarunGothic')\n",
        "\n",
        "from google.colab import drive\n",
        "drive.mount('/content/drive')\n",
        "\n",
        "import pandas as pd\n",
        "\n",
        "import folium"
      ],
      "metadata": {
        "colab": {
          "base_uri": "https://localhost:8080/"
        },
        "id": "PnOqSR0s76sc",
        "outputId": "a442e613-ba8a-407d-cbe0-d03d9cb3057c"
      },
      "execution_count": null,
      "outputs": [
        {
          "output_type": "stream",
          "name": "stdout",
          "text": [
            "Drive already mounted at /content/drive; to attempt to forcibly remount, call drive.mount(\"/content/drive\", force_remount=True).\n"
          ]
        }
      ]
    },
    {
      "cell_type": "code",
      "source": [
        "%cd /content/drive/MyDrive\n",
        "!ls -al"
      ],
      "metadata": {
        "colab": {
          "base_uri": "https://localhost:8080/"
        },
        "id": "qJzAuUNccPY8",
        "outputId": "7c2b9aab-c1c6-4524-9612-c4203b49ecb9"
      },
      "execution_count": null,
      "outputs": [
        {
          "output_type": "stream",
          "name": "stdout",
          "text": [
            "/content/drive/MyDrive\n",
            "total 325091\n",
            "drwx------ 2 root root      4096 Jul 25 05:36  버스\n",
            "drwx------ 2 root root      4096 Jul  4 05:29  영화\n",
            "drwx------ 2 root root      4096 Jul 21 17:28  쇼핑\n",
            "drwx------ 2 root root      4096 Aug  1 05:07  와인\n",
            "drwx------ 2 root root      4096 Nov  8 07:32  현대\n",
            "drwx------ 2 root root      4096 Jul 13 05:22  따릉이\n",
            "drwx------ 2 root root      4096 Jul  3 02:10  타이타닉\n",
            "drwx------ 2 root root      4096 Sep  2 13:46  예측대회\n",
            "drwx------ 2 root root      4096 Jul  6 06:06  구내식당\n",
            "drwx------ 2 root root      4096 Jul  3 02:09  데분스터디\n",
            "drwx------ 2 root root      4096 Sep  5  2019 '소프트웨어적 사고'\n",
            "drwx------ 2 root root      4096 Aug  3 17:29  쇼핑몰평점\n",
            "drwx------ 2 root root      4096 Aug 23 08:02  여행상품신청\n",
            "drwx------ 2 root root      4096 Jun 29 05:58 '와인 (1)'\n",
            "-rw------- 1 root root        68 Jul  2  2020  실습10.txt\n",
            "-rw------- 1 root root     31960 May 18  2021 '1_4단질병성별연령10세구간별현황(진료년월).csv'\n",
            "-rw------- 1 root root     31168 Jul  2  2020 '박예진_19016027 (1) (1).ipynb'\n",
            "-rw------- 1 root root     24292 Jul  2  2020  박예진_19016027.docx\n",
            "-rw------- 1 root root       143 Jul 30 13:50 'agz-ghwz-anp - 2022년 7월 30일.gjam'\n",
            "drwx------ 3 root root      4096 Sep 17 07:20  aT_data\n",
            "-rw------- 1 root root 205838957 Sep  2 06:51  aT_data.zip\n",
            "drwx------ 2 root root      4096 Apr 14  2021 'Colab Notebooks'\n",
            "drwx------ 2 root root      4096 Jul 21 17:27  dataset\n",
            "-rw------- 1 root root     12310 Jul  2  2020 'ds 10강 수업.ipynb'\n",
            "-rw------- 1 root root     18909 Jul  2  2020 'ds 10주차 실습.ipynb'\n",
            "-rw------- 1 root root   3055607 Jul  2  2020  DS1_10w_pandas2.pdf\n",
            "-rw------- 1 root root   1879428 Jul  2  2020  DS1_11w_pandas3_bool_map_apply.pdf\n",
            "-rw------- 1 root root    999890 Jul  2  2020  DS1_12w_pandas4_Dataframe_builtin_groupby_.pdf\n",
            "-rw------- 1 root root    824319 Jul  2  2020  DS1_13w_pandas5_groupby_concat_iterrows.pdf\n",
            "-rw------- 1 root root     86301 Jul  2  2020 'ds 11주차 실습.ipynb'\n",
            "-rw------- 1 root root    825416 Jul  2  2020  DS1_2w_파이썬복습.pdf\n",
            "-rw------- 1 root root      9433 Jul  2  2020  ds1_2w_py_review_presentation_ans_changto_ipynb.ipynb\n",
            "-rw------- 1 root root   3764786 Jul  2  2020  DS1_3w_numpy1.pdf\n",
            "-rw------- 1 root root   3370965 Jul  2  2020  DS1_4w_numpy2.pdf\n",
            "-rw------- 1 root root   3304914 Jul  2  2020  DS1_5w_numpy3_operation_function_with_array.pdf\n",
            "-rw------- 1 root root   2338985 Jul  2  2020  DS1_6w_numpy4_comparison_boolean_saveload.pdf\n",
            "-rw------- 1 root root      4735 Jul  2  2020 'ds 3주차 3강 (1).ipynb'\n",
            "-rw------- 1 root root      4096 Jul  2  2020 'ds 3주차 3강 실습.ipynb'\n",
            "-rw------- 1 root root     22393 Jul  2  2020 'ds 4주차 수업.ipynb'\n",
            "-rw------- 1 root root      5228 Jul  2  2020 'ds 4주차 실습.ipynb'\n",
            "-rw------- 1 root root      6953 Jul  2  2020 'ds 5주차 수업.ipynb'\n",
            "-rw------- 1 root root     35886 Jul  2  2020 'ds 5주차 실습.ipynb'\n",
            "-rw------- 1 root root      7504 Jul  2  2020 'ds 6주차 수업.ipynb'\n",
            "-rw------- 1 root root      3138 Jul  2  2020 'ds 7강 수업.ipynb'\n",
            "-rw------- 1 root root   3339414 Jul  2  2020  DS_7w_pandas1.pdf\n",
            "-rw------- 1 root root     30106 Jul  2  2020 'ds 9강 수업.ipynb'\n",
            "-rw------- 1 root root      4584 Jul  2  2020 'ds 9강 실습.ipynb'\n",
            "-rw------- 1 root root       143 Jun 26  2020 'DS Programming 1 Guidebook의 사본.gdoc'\n",
            "-rw------- 1 root root  12268500 Jun 29 05:48 '[데이터분석_입문을 위한 와인 품질 분류 EDA & Visualization].ipynb'\n",
            "-rw------- 1 root root        28 Apr 14  2021  hi.txt\n",
            "-rw------- 1 root root     41984 Jul  2  2020 '간략 정리.hwp'\n",
            "-rw------- 1 root root     22016 Jul  2  2020  실현.hwp\n",
            "-rw------- 1 root root  21826560 Jul  2  2020  기말고사.hwp\n",
            "-rw------- 1 root root    321637 Nov 18  2020 'KakaoTalk_20201118_174422546 (1).jpg'\n",
            "-rw------- 1 root root    340051 Nov 18  2020 'KakaoTalk_20201118_174422546 (2).jpg'\n",
            "-rw------- 1 root root    321637 Nov 18  2020  KakaoTalk_20201118_174422546.jpg\n",
            "-rw------- 1 root root  65862309 Apr 14  2021 'movie_data (1).csv'\n",
            "-rw------- 1 root root        89 Jul  2  2020  numpy_data1.txt\n",
            "-rw------- 1 root root        89 Jul  2  2020  numpy_data2.txt\n",
            "-rw------- 1 root root       795 Jul  2  2020  pandas_data1.txt\n",
            "-rw------- 1 root root   1424345 Jul  2  2020  Python+활용+위한+구조와+기능의+이해_강의.pdf\n",
            "-rw------- 1 root root      6905 Jun 29 05:50  sample_submission.csv\n",
            "-rw------- 1 root root       143 Aug  7 05:06  student-mat.gsheet\n",
            "-rw------- 1 root root     73676 Jun 29 05:50  test.csv\n",
            "-rw------- 1 root root    418941 Jun 29 05:50  train.csv\n"
          ]
        }
      ]
    },
    {
      "cell_type": "code",
      "source": [
        "tr_path = './aT_data/data/train'"
      ],
      "metadata": {
        "id": "2QzWdtONca4p"
      },
      "execution_count": null,
      "outputs": []
    },
    {
      "cell_type": "code",
      "source": [
        "train = pd.read_csv(tr_path + '/train_0.csv')\n",
        "train"
      ],
      "metadata": {
        "id": "F_3JWt6A76qJ",
        "colab": {
          "base_uri": "https://localhost:8080/",
          "height": 485
        },
        "outputId": "c31ae51c-d9f6-4645-d646-e08ef0dd0a41"
      },
      "execution_count": null,
      "outputs": [
        {
          "output_type": "execute_result",
          "data": {
            "text/plain": [
              "      datadate     단가(원)    거래량    거래대금(원)  경매건수    도매시장코드      도매법인코드  산지코드   \\\n",
              "0     20130101       NaN    NaN        NaN   NaN       NaN         NaN    NaN   \n",
              "1     20130102   6143.85    2.0    12312.3   1.0  371501.0  37150102.0  740.0   \n",
              "2     20130103   1898.10   48.0    91108.8   1.0  230001.0  23000102.0  800.0   \n",
              "3     20130104   8488.48  120.0  1019018.0   3.0  230001.0  23000101.0  323.0   \n",
              "4     20130105   3556.44  540.0  1921077.0   4.0  371501.0  37150102.0  742.0   \n",
              "...        ...       ...    ...        ...   ...       ...         ...    ...   \n",
              "1456  20161227       NaN    NaN        NaN   NaN       NaN         NaN    NaN   \n",
              "1457  20161228   2752.75   60.0   164835.0   4.0  230001.0  23000104.0  800.0   \n",
              "1458  20161229  10010.00   18.0   180180.0   1.0  230003.0  23000303.0  225.0   \n",
              "1459  20161230  11411.40    4.0    45645.6   1.0  350301.0  35030101.0  570.0   \n",
              "1460  20161231   9490.50  160.0  1518480.0   2.0  230003.0  23000302.0  323.0   \n",
              "\n",
              "      해당일자_전체평균가격(원)  해당일자_전체거래물량(kg)  ...  월구분_12월  월구분_1월  월구분_2월  월구분_3월  \\\n",
              "0                NaN              NaN  ...        0       1       0       0   \n",
              "1       20712.240909             22.0  ...        0       1       0       0   \n",
              "2        3401.863678            541.0  ...        0       1       0       0   \n",
              "3        6553.903226            279.0  ...        0       1       0       0   \n",
              "4        4299.079157           1233.0  ...        0       1       0       0   \n",
              "...              ...              ...  ...      ...     ...     ...     ...   \n",
              "1456             NaN              NaN  ...        1       0       0       0   \n",
              "1457     6128.845893           1595.0  ...        1       0       0       0   \n",
              "1458     6644.034096            437.0  ...        1       0       0       0   \n",
              "1459     6572.480795            972.0  ...        1       0       0       0   \n",
              "1460     7503.706522            552.0  ...        1       0       0       0   \n",
              "\n",
              "      월구분_4월  월구분_5월  월구분_6월  월구분_7월  월구분_8월  월구분_9월  \n",
              "0          0       0       0       0       0       0  \n",
              "1          0       0       0       0       0       0  \n",
              "2          0       0       0       0       0       0  \n",
              "3          0       0       0       0       0       0  \n",
              "4          0       0       0       0       0       0  \n",
              "...      ...     ...     ...     ...     ...     ...  \n",
              "1456       0       0       0       0       0       0  \n",
              "1457       0       0       0       0       0       0  \n",
              "1458       0       0       0       0       0       0  \n",
              "1459       0       0       0       0       0       0  \n",
              "1460       0       0       0       0       0       0  \n",
              "\n",
              "[1461 rows x 58 columns]"
            ],
            "text/html": [
              "\n",
              "  <div id=\"df-fd8f2440-040f-4a11-be3b-53b9027a9665\">\n",
              "    <div class=\"colab-df-container\">\n",
              "      <div>\n",
              "<style scoped>\n",
              "    .dataframe tbody tr th:only-of-type {\n",
              "        vertical-align: middle;\n",
              "    }\n",
              "\n",
              "    .dataframe tbody tr th {\n",
              "        vertical-align: top;\n",
              "    }\n",
              "\n",
              "    .dataframe thead th {\n",
              "        text-align: right;\n",
              "    }\n",
              "</style>\n",
              "<table border=\"1\" class=\"dataframe\">\n",
              "  <thead>\n",
              "    <tr style=\"text-align: right;\">\n",
              "      <th></th>\n",
              "      <th>datadate</th>\n",
              "      <th>단가(원)</th>\n",
              "      <th>거래량</th>\n",
              "      <th>거래대금(원)</th>\n",
              "      <th>경매건수</th>\n",
              "      <th>도매시장코드</th>\n",
              "      <th>도매법인코드</th>\n",
              "      <th>산지코드</th>\n",
              "      <th>해당일자_전체평균가격(원)</th>\n",
              "      <th>해당일자_전체거래물량(kg)</th>\n",
              "      <th>...</th>\n",
              "      <th>월구분_12월</th>\n",
              "      <th>월구분_1월</th>\n",
              "      <th>월구분_2월</th>\n",
              "      <th>월구분_3월</th>\n",
              "      <th>월구분_4월</th>\n",
              "      <th>월구분_5월</th>\n",
              "      <th>월구분_6월</th>\n",
              "      <th>월구분_7월</th>\n",
              "      <th>월구분_8월</th>\n",
              "      <th>월구분_9월</th>\n",
              "    </tr>\n",
              "  </thead>\n",
              "  <tbody>\n",
              "    <tr>\n",
              "      <th>0</th>\n",
              "      <td>20130101</td>\n",
              "      <td>NaN</td>\n",
              "      <td>NaN</td>\n",
              "      <td>NaN</td>\n",
              "      <td>NaN</td>\n",
              "      <td>NaN</td>\n",
              "      <td>NaN</td>\n",
              "      <td>NaN</td>\n",
              "      <td>NaN</td>\n",
              "      <td>NaN</td>\n",
              "      <td>...</td>\n",
              "      <td>0</td>\n",
              "      <td>1</td>\n",
              "      <td>0</td>\n",
              "      <td>0</td>\n",
              "      <td>0</td>\n",
              "      <td>0</td>\n",
              "      <td>0</td>\n",
              "      <td>0</td>\n",
              "      <td>0</td>\n",
              "      <td>0</td>\n",
              "    </tr>\n",
              "    <tr>\n",
              "      <th>1</th>\n",
              "      <td>20130102</td>\n",
              "      <td>6143.85</td>\n",
              "      <td>2.0</td>\n",
              "      <td>12312.3</td>\n",
              "      <td>1.0</td>\n",
              "      <td>371501.0</td>\n",
              "      <td>37150102.0</td>\n",
              "      <td>740.0</td>\n",
              "      <td>20712.240909</td>\n",
              "      <td>22.0</td>\n",
              "      <td>...</td>\n",
              "      <td>0</td>\n",
              "      <td>1</td>\n",
              "      <td>0</td>\n",
              "      <td>0</td>\n",
              "      <td>0</td>\n",
              "      <td>0</td>\n",
              "      <td>0</td>\n",
              "      <td>0</td>\n",
              "      <td>0</td>\n",
              "      <td>0</td>\n",
              "    </tr>\n",
              "    <tr>\n",
              "      <th>2</th>\n",
              "      <td>20130103</td>\n",
              "      <td>1898.10</td>\n",
              "      <td>48.0</td>\n",
              "      <td>91108.8</td>\n",
              "      <td>1.0</td>\n",
              "      <td>230001.0</td>\n",
              "      <td>23000102.0</td>\n",
              "      <td>800.0</td>\n",
              "      <td>3401.863678</td>\n",
              "      <td>541.0</td>\n",
              "      <td>...</td>\n",
              "      <td>0</td>\n",
              "      <td>1</td>\n",
              "      <td>0</td>\n",
              "      <td>0</td>\n",
              "      <td>0</td>\n",
              "      <td>0</td>\n",
              "      <td>0</td>\n",
              "      <td>0</td>\n",
              "      <td>0</td>\n",
              "      <td>0</td>\n",
              "    </tr>\n",
              "    <tr>\n",
              "      <th>3</th>\n",
              "      <td>20130104</td>\n",
              "      <td>8488.48</td>\n",
              "      <td>120.0</td>\n",
              "      <td>1019018.0</td>\n",
              "      <td>3.0</td>\n",
              "      <td>230001.0</td>\n",
              "      <td>23000101.0</td>\n",
              "      <td>323.0</td>\n",
              "      <td>6553.903226</td>\n",
              "      <td>279.0</td>\n",
              "      <td>...</td>\n",
              "      <td>0</td>\n",
              "      <td>1</td>\n",
              "      <td>0</td>\n",
              "      <td>0</td>\n",
              "      <td>0</td>\n",
              "      <td>0</td>\n",
              "      <td>0</td>\n",
              "      <td>0</td>\n",
              "      <td>0</td>\n",
              "      <td>0</td>\n",
              "    </tr>\n",
              "    <tr>\n",
              "      <th>4</th>\n",
              "      <td>20130105</td>\n",
              "      <td>3556.44</td>\n",
              "      <td>540.0</td>\n",
              "      <td>1921077.0</td>\n",
              "      <td>4.0</td>\n",
              "      <td>371501.0</td>\n",
              "      <td>37150102.0</td>\n",
              "      <td>742.0</td>\n",
              "      <td>4299.079157</td>\n",
              "      <td>1233.0</td>\n",
              "      <td>...</td>\n",
              "      <td>0</td>\n",
              "      <td>1</td>\n",
              "      <td>0</td>\n",
              "      <td>0</td>\n",
              "      <td>0</td>\n",
              "      <td>0</td>\n",
              "      <td>0</td>\n",
              "      <td>0</td>\n",
              "      <td>0</td>\n",
              "      <td>0</td>\n",
              "    </tr>\n",
              "    <tr>\n",
              "      <th>...</th>\n",
              "      <td>...</td>\n",
              "      <td>...</td>\n",
              "      <td>...</td>\n",
              "      <td>...</td>\n",
              "      <td>...</td>\n",
              "      <td>...</td>\n",
              "      <td>...</td>\n",
              "      <td>...</td>\n",
              "      <td>...</td>\n",
              "      <td>...</td>\n",
              "      <td>...</td>\n",
              "      <td>...</td>\n",
              "      <td>...</td>\n",
              "      <td>...</td>\n",
              "      <td>...</td>\n",
              "      <td>...</td>\n",
              "      <td>...</td>\n",
              "      <td>...</td>\n",
              "      <td>...</td>\n",
              "      <td>...</td>\n",
              "      <td>...</td>\n",
              "    </tr>\n",
              "    <tr>\n",
              "      <th>1456</th>\n",
              "      <td>20161227</td>\n",
              "      <td>NaN</td>\n",
              "      <td>NaN</td>\n",
              "      <td>NaN</td>\n",
              "      <td>NaN</td>\n",
              "      <td>NaN</td>\n",
              "      <td>NaN</td>\n",
              "      <td>NaN</td>\n",
              "      <td>NaN</td>\n",
              "      <td>NaN</td>\n",
              "      <td>...</td>\n",
              "      <td>1</td>\n",
              "      <td>0</td>\n",
              "      <td>0</td>\n",
              "      <td>0</td>\n",
              "      <td>0</td>\n",
              "      <td>0</td>\n",
              "      <td>0</td>\n",
              "      <td>0</td>\n",
              "      <td>0</td>\n",
              "      <td>0</td>\n",
              "    </tr>\n",
              "    <tr>\n",
              "      <th>1457</th>\n",
              "      <td>20161228</td>\n",
              "      <td>2752.75</td>\n",
              "      <td>60.0</td>\n",
              "      <td>164835.0</td>\n",
              "      <td>4.0</td>\n",
              "      <td>230001.0</td>\n",
              "      <td>23000104.0</td>\n",
              "      <td>800.0</td>\n",
              "      <td>6128.845893</td>\n",
              "      <td>1595.0</td>\n",
              "      <td>...</td>\n",
              "      <td>1</td>\n",
              "      <td>0</td>\n",
              "      <td>0</td>\n",
              "      <td>0</td>\n",
              "      <td>0</td>\n",
              "      <td>0</td>\n",
              "      <td>0</td>\n",
              "      <td>0</td>\n",
              "      <td>0</td>\n",
              "      <td>0</td>\n",
              "    </tr>\n",
              "    <tr>\n",
              "      <th>1458</th>\n",
              "      <td>20161229</td>\n",
              "      <td>10010.00</td>\n",
              "      <td>18.0</td>\n",
              "      <td>180180.0</td>\n",
              "      <td>1.0</td>\n",
              "      <td>230003.0</td>\n",
              "      <td>23000303.0</td>\n",
              "      <td>225.0</td>\n",
              "      <td>6644.034096</td>\n",
              "      <td>437.0</td>\n",
              "      <td>...</td>\n",
              "      <td>1</td>\n",
              "      <td>0</td>\n",
              "      <td>0</td>\n",
              "      <td>0</td>\n",
              "      <td>0</td>\n",
              "      <td>0</td>\n",
              "      <td>0</td>\n",
              "      <td>0</td>\n",
              "      <td>0</td>\n",
              "      <td>0</td>\n",
              "    </tr>\n",
              "    <tr>\n",
              "      <th>1459</th>\n",
              "      <td>20161230</td>\n",
              "      <td>11411.40</td>\n",
              "      <td>4.0</td>\n",
              "      <td>45645.6</td>\n",
              "      <td>1.0</td>\n",
              "      <td>350301.0</td>\n",
              "      <td>35030101.0</td>\n",
              "      <td>570.0</td>\n",
              "      <td>6572.480795</td>\n",
              "      <td>972.0</td>\n",
              "      <td>...</td>\n",
              "      <td>1</td>\n",
              "      <td>0</td>\n",
              "      <td>0</td>\n",
              "      <td>0</td>\n",
              "      <td>0</td>\n",
              "      <td>0</td>\n",
              "      <td>0</td>\n",
              "      <td>0</td>\n",
              "      <td>0</td>\n",
              "      <td>0</td>\n",
              "    </tr>\n",
              "    <tr>\n",
              "      <th>1460</th>\n",
              "      <td>20161231</td>\n",
              "      <td>9490.50</td>\n",
              "      <td>160.0</td>\n",
              "      <td>1518480.0</td>\n",
              "      <td>2.0</td>\n",
              "      <td>230003.0</td>\n",
              "      <td>23000302.0</td>\n",
              "      <td>323.0</td>\n",
              "      <td>7503.706522</td>\n",
              "      <td>552.0</td>\n",
              "      <td>...</td>\n",
              "      <td>1</td>\n",
              "      <td>0</td>\n",
              "      <td>0</td>\n",
              "      <td>0</td>\n",
              "      <td>0</td>\n",
              "      <td>0</td>\n",
              "      <td>0</td>\n",
              "      <td>0</td>\n",
              "      <td>0</td>\n",
              "      <td>0</td>\n",
              "    </tr>\n",
              "  </tbody>\n",
              "</table>\n",
              "<p>1461 rows × 58 columns</p>\n",
              "</div>\n",
              "      <button class=\"colab-df-convert\" onclick=\"convertToInteractive('df-fd8f2440-040f-4a11-be3b-53b9027a9665')\"\n",
              "              title=\"Convert this dataframe to an interactive table.\"\n",
              "              style=\"display:none;\">\n",
              "        \n",
              "  <svg xmlns=\"http://www.w3.org/2000/svg\" height=\"24px\"viewBox=\"0 0 24 24\"\n",
              "       width=\"24px\">\n",
              "    <path d=\"M0 0h24v24H0V0z\" fill=\"none\"/>\n",
              "    <path d=\"M18.56 5.44l.94 2.06.94-2.06 2.06-.94-2.06-.94-.94-2.06-.94 2.06-2.06.94zm-11 1L8.5 8.5l.94-2.06 2.06-.94-2.06-.94L8.5 2.5l-.94 2.06-2.06.94zm10 10l.94 2.06.94-2.06 2.06-.94-2.06-.94-.94-2.06-.94 2.06-2.06.94z\"/><path d=\"M17.41 7.96l-1.37-1.37c-.4-.4-.92-.59-1.43-.59-.52 0-1.04.2-1.43.59L10.3 9.45l-7.72 7.72c-.78.78-.78 2.05 0 2.83L4 21.41c.39.39.9.59 1.41.59.51 0 1.02-.2 1.41-.59l7.78-7.78 2.81-2.81c.8-.78.8-2.07 0-2.86zM5.41 20L4 18.59l7.72-7.72 1.47 1.35L5.41 20z\"/>\n",
              "  </svg>\n",
              "      </button>\n",
              "      \n",
              "  <style>\n",
              "    .colab-df-container {\n",
              "      display:flex;\n",
              "      flex-wrap:wrap;\n",
              "      gap: 12px;\n",
              "    }\n",
              "\n",
              "    .colab-df-convert {\n",
              "      background-color: #E8F0FE;\n",
              "      border: none;\n",
              "      border-radius: 50%;\n",
              "      cursor: pointer;\n",
              "      display: none;\n",
              "      fill: #1967D2;\n",
              "      height: 32px;\n",
              "      padding: 0 0 0 0;\n",
              "      width: 32px;\n",
              "    }\n",
              "\n",
              "    .colab-df-convert:hover {\n",
              "      background-color: #E2EBFA;\n",
              "      box-shadow: 0px 1px 2px rgba(60, 64, 67, 0.3), 0px 1px 3px 1px rgba(60, 64, 67, 0.15);\n",
              "      fill: #174EA6;\n",
              "    }\n",
              "\n",
              "    [theme=dark] .colab-df-convert {\n",
              "      background-color: #3B4455;\n",
              "      fill: #D2E3FC;\n",
              "    }\n",
              "\n",
              "    [theme=dark] .colab-df-convert:hover {\n",
              "      background-color: #434B5C;\n",
              "      box-shadow: 0px 1px 3px 1px rgba(0, 0, 0, 0.15);\n",
              "      filter: drop-shadow(0px 1px 2px rgba(0, 0, 0, 0.3));\n",
              "      fill: #FFFFFF;\n",
              "    }\n",
              "  </style>\n",
              "\n",
              "      <script>\n",
              "        const buttonEl =\n",
              "          document.querySelector('#df-fd8f2440-040f-4a11-be3b-53b9027a9665 button.colab-df-convert');\n",
              "        buttonEl.style.display =\n",
              "          google.colab.kernel.accessAllowed ? 'block' : 'none';\n",
              "\n",
              "        async function convertToInteractive(key) {\n",
              "          const element = document.querySelector('#df-fd8f2440-040f-4a11-be3b-53b9027a9665');\n",
              "          const dataTable =\n",
              "            await google.colab.kernel.invokeFunction('convertToInteractive',\n",
              "                                                     [key], {});\n",
              "          if (!dataTable) return;\n",
              "\n",
              "          const docLinkHtml = 'Like what you see? Visit the ' +\n",
              "            '<a target=\"_blank\" href=https://colab.research.google.com/notebooks/data_table.ipynb>data table notebook</a>'\n",
              "            + ' to learn more about interactive tables.';\n",
              "          element.innerHTML = '';\n",
              "          dataTable['output_type'] = 'display_data';\n",
              "          await google.colab.output.renderOutput(dataTable, element);\n",
              "          const docLink = document.createElement('div');\n",
              "          docLink.innerHTML = docLinkHtml;\n",
              "          element.appendChild(docLink);\n",
              "        }\n",
              "      </script>\n",
              "    </div>\n",
              "  </div>\n",
              "  "
            ]
          },
          "metadata": {},
          "execution_count": 1405
        }
      ]
    },
    {
      "cell_type": "markdown",
      "source": [
        "# 데이터 전처리"
      ],
      "metadata": {
        "id": "fP1Z9-nAirQc"
      }
    },
    {
      "cell_type": "code",
      "source": [
        "train.columns"
      ],
      "metadata": {
        "colab": {
          "base_uri": "https://localhost:8080/"
        },
        "id": "Cn-oc5zK3ada",
        "outputId": "48b69b34-1b61-484d-c38d-506df87fcb83"
      },
      "execution_count": null,
      "outputs": [
        {
          "output_type": "execute_result",
          "data": {
            "text/plain": [
              "Index(['datadate', '단가(원)', '거래량', '거래대금(원)', '경매건수', '도매시장코드', '도매법인코드',\n",
              "       '산지코드 ', '해당일자_전체평균가격(원)', '해당일자_전체거래물량(kg)', '하위가격 평균가(원)',\n",
              "       '상위가격 평균가(원)', '하위가격 거래물량(kg)', '상위가격 거래물량(kg)', '일자별_도매가격_최대(원)',\n",
              "       '일자별_도매가격_평균(원)', '일자별_도매가격_최소(원)', '일자별_소매가격_최대(원)', '일자별_소매가격_평균(원)',\n",
              "       '일자별_소매가격_최소(원)', '수출중량(kg)', '수출금액(달러)', '수입중량(kg)', '수입금액(달러)',\n",
              "       '무역수지(달러)', '주산지_0_초기온도(℃)', '주산지_0_최대온도(℃)', '주산지_0_최저온도(℃)',\n",
              "       '주산지_0_평균온도(℃)', '주산지_0_강수량(ml)', '주산지_0_습도(%)', '주산지_1_초기온도(℃)',\n",
              "       '주산지_1_최대온도(℃)', '주산지_1_최저온도(℃)', '주산지_1_평균온도(℃)', '주산지_1_강수량(ml)',\n",
              "       '주산지_1_습도(%)', '주산지_2_초기온도(℃)', '주산지_2_최대온도(℃)', '주산지_2_최저온도(℃)',\n",
              "       '주산지_2_평균온도(℃)', '주산지_2_강수량(ml)', '주산지_2_습도(%)', '일자구분_중순', '일자구분_초순',\n",
              "       '일자구분_하순', '월구분_10월', '월구분_11월', '월구분_12월', '월구분_1월', '월구분_2월',\n",
              "       '월구분_3월', '월구분_4월', '월구분_5월', '월구분_6월', '월구분_7월', '월구분_8월', '월구분_9월'],\n",
              "      dtype='object')"
            ]
          },
          "metadata": {},
          "execution_count": 1406
        }
      ]
    },
    {
      "cell_type": "markdown",
      "source": [
        "## 연도, 요일 추가\n",
        "- 시계열 자료를 나타내기 위해 기존에 있던 날짜를 더 자세하게 분해해보려고 시도했다.\n",
        "- 연도와 요일만 추가하고 월과 일자는 추가하지 않은 이유는 기존 column에 월구분과 일자구분이 이미 존재하기 때문이다.\n",
        "- 그 결과, 연도와 요일만을 column에 추가해 주었다.\n",
        "\n"
      ],
      "metadata": {
        "id": "FbG9EK1nnaDR"
      }
    },
    {
      "cell_type": "code",
      "source": [
        "train['datetime'] = train['datadate'].apply(lambda x: pd.to_datetime(str(x), format='%Y-%m-%d'))"
      ],
      "metadata": {
        "id": "buLotNGBrGL_"
      },
      "execution_count": null,
      "outputs": []
    },
    {
      "cell_type": "code",
      "source": [
        "train['week_day'] = train['datetime'].dt.day_name()\n",
        "train['week_day']"
      ],
      "metadata": {
        "colab": {
          "base_uri": "https://localhost:8080/"
        },
        "id": "KuSGLB5DnbVb",
        "outputId": "72dc426e-c1d2-4697-d9bb-6e7386c4988d"
      },
      "execution_count": null,
      "outputs": [
        {
          "output_type": "execute_result",
          "data": {
            "text/plain": [
              "0         Tuesday\n",
              "1       Wednesday\n",
              "2        Thursday\n",
              "3          Friday\n",
              "4        Saturday\n",
              "          ...    \n",
              "1456      Tuesday\n",
              "1457    Wednesday\n",
              "1458     Thursday\n",
              "1459       Friday\n",
              "1460     Saturday\n",
              "Name: week_day, Length: 1461, dtype: object"
            ]
          },
          "metadata": {},
          "execution_count": 1408
        }
      ]
    },
    {
      "cell_type": "code",
      "source": [
        "train['datetime'] = train['datetime'].astype(str)\n",
        "train['datetime']"
      ],
      "metadata": {
        "colab": {
          "base_uri": "https://localhost:8080/"
        },
        "id": "8UD_NSCxs3Sf",
        "outputId": "17d20bc5-0de8-49ec-a01a-64f89cbccb7a"
      },
      "execution_count": null,
      "outputs": [
        {
          "output_type": "execute_result",
          "data": {
            "text/plain": [
              "0       2013-01-01\n",
              "1       2013-01-02\n",
              "2       2013-01-03\n",
              "3       2013-01-04\n",
              "4       2013-01-05\n",
              "           ...    \n",
              "1456    2016-12-27\n",
              "1457    2016-12-28\n",
              "1458    2016-12-29\n",
              "1459    2016-12-30\n",
              "1460    2016-12-31\n",
              "Name: datetime, Length: 1461, dtype: object"
            ]
          },
          "metadata": {},
          "execution_count": 1409
        }
      ]
    },
    {
      "cell_type": "code",
      "source": [
        "train['year'] = train['datetime'].apply(lambda x : x.split('-')[0]) #년"
      ],
      "metadata": {
        "id": "I8yDUPWknbTN"
      },
      "execution_count": null,
      "outputs": []
    },
    {
      "cell_type": "code",
      "source": [
        "train['year'] = train['year'].astype('int')"
      ],
      "metadata": {
        "id": "NKOnyxWLnFwr"
      },
      "execution_count": null,
      "outputs": []
    },
    {
      "cell_type": "code",
      "source": [
        "train.loc[train['week_day'] == 'Sunday', 'week_day'] = 0\n",
        "train.loc[train['week_day'] == 'Monday', 'week_day'] = 1\n",
        "train.loc[train['week_day'] == 'Tuesday', 'week_day'] = 2\n",
        "train.loc[train['week_day'] == 'Wednesday', 'week_day'] = 3\n",
        "train.loc[train['week_day'] == 'Thursday', 'week_day'] = 4\n",
        "train.loc[train['week_day'] == 'Friday', 'week_day'] = 5\n",
        "train.loc[train['week_day'] == 'Saturday', 'week_day'] = 6"
      ],
      "metadata": {
        "id": "h3HbB_sktqkv"
      },
      "execution_count": null,
      "outputs": []
    },
    {
      "cell_type": "markdown",
      "source": [
        "## 결측치 처리\n",
        "훈련 데이터 fillna로 결측치 채우기"
      ],
      "metadata": {
        "id": "IVbFPWof097E"
      }
    },
    {
      "cell_type": "markdown",
      "source": [
        "- 현재 결측치값"
      ],
      "metadata": {
        "id": "th2jF24h6WrA"
      }
    },
    {
      "cell_type": "code",
      "source": [
        "train.isna().sum()"
      ],
      "metadata": {
        "colab": {
          "base_uri": "https://localhost:8080/"
        },
        "id": "qaiP40IO6Uvo",
        "outputId": "987e10dc-1a77-4ba3-9821-a5773a931b5c"
      },
      "execution_count": null,
      "outputs": [
        {
          "output_type": "execute_result",
          "data": {
            "text/plain": [
              "datadate      0\n",
              "단가(원)       237\n",
              "거래량         237\n",
              "거래대금(원)     237\n",
              "경매건수        237\n",
              "           ... \n",
              "월구분_8월        0\n",
              "월구분_9월        0\n",
              "datetime      0\n",
              "week_day      0\n",
              "year          0\n",
              "Length: 61, dtype: int64"
            ]
          },
          "metadata": {},
          "execution_count": 1413
        }
      ]
    },
    {
      "cell_type": "code",
      "source": [
        "train.dropna(subset = ['단가(원)'],inplace=True)"
      ],
      "metadata": {
        "id": "z9WC0qDz5x7I"
      },
      "execution_count": null,
      "outputs": []
    },
    {
      "cell_type": "code",
      "source": [
        "train.fillna(method='bfill',inplace=True)\n",
        "train.fillna(method='ffill',inplace=True)"
      ],
      "metadata": {
        "id": "ZL0yWhFP1c2L"
      },
      "execution_count": null,
      "outputs": []
    },
    {
      "cell_type": "markdown",
      "source": [
        "- 결측치 위치 기준 아랫 값 가져오기(bfill)\n",
        "- 결측치 위치 기준 윗 값 가져오기(ffill)"
      ],
      "metadata": {
        "id": "Vmmty6hCoXLz"
      }
    },
    {
      "cell_type": "code",
      "source": [
        "train.isna().sum()"
      ],
      "metadata": {
        "colab": {
          "base_uri": "https://localhost:8080/"
        },
        "id": "g8eMCoqK1MiA",
        "outputId": "d96ed47f-5987-45f2-b9e8-35d10d735b7b"
      },
      "execution_count": null,
      "outputs": [
        {
          "output_type": "execute_result",
          "data": {
            "text/plain": [
              "datadate    0\n",
              "단가(원)       0\n",
              "거래량         0\n",
              "거래대금(원)     0\n",
              "경매건수        0\n",
              "           ..\n",
              "월구분_8월      0\n",
              "월구분_9월      0\n",
              "datetime    0\n",
              "week_day    0\n",
              "year        0\n",
              "Length: 61, dtype: int64"
            ]
          },
          "metadata": {},
          "execution_count": 1416
        }
      ]
    },
    {
      "cell_type": "markdown",
      "source": [
        "- 결측치가 모두 0이 되었음을 확인했다."
      ],
      "metadata": {
        "id": "gNq-V25-6Oqx"
      }
    },
    {
      "cell_type": "markdown",
      "source": [
        "## train에서 사용하지 않는 열 제거 -안한다\n",
        "- '단가(원)', '거래량', '거래대금(원)', '경매건수', '도매시장코드', '도매법인코드', '산지코드' 총 7개의 열을 제거해 주었다."
      ],
      "metadata": {
        "id": "Oa58m_fcHTYV"
      }
    },
    {
      "cell_type": "code",
      "source": [
        "#tr_del_list = ['단가(원)', '거래량', '거래대금(원)', '경매건수', '도매시장코드', '도매법인코드', '산지코드 ']"
      ],
      "metadata": {
        "id": "iUFym6ojHTYW"
      },
      "execution_count": null,
      "outputs": []
    },
    {
      "cell_type": "code",
      "source": [
        "train.columns"
      ],
      "metadata": {
        "colab": {
          "base_uri": "https://localhost:8080/"
        },
        "id": "_2NwrE38_0OM",
        "outputId": "3850048d-f4ec-4aed-b796-be36617cc4c4"
      },
      "execution_count": null,
      "outputs": [
        {
          "output_type": "execute_result",
          "data": {
            "text/plain": [
              "Index(['datadate', '단가(원)', '거래량', '거래대금(원)', '경매건수', '도매시장코드', '도매법인코드',\n",
              "       '산지코드 ', '해당일자_전체평균가격(원)', '해당일자_전체거래물량(kg)', '하위가격 평균가(원)',\n",
              "       '상위가격 평균가(원)', '하위가격 거래물량(kg)', '상위가격 거래물량(kg)', '일자별_도매가격_최대(원)',\n",
              "       '일자별_도매가격_평균(원)', '일자별_도매가격_최소(원)', '일자별_소매가격_최대(원)', '일자별_소매가격_평균(원)',\n",
              "       '일자별_소매가격_최소(원)', '수출중량(kg)', '수출금액(달러)', '수입중량(kg)', '수입금액(달러)',\n",
              "       '무역수지(달러)', '주산지_0_초기온도(℃)', '주산지_0_최대온도(℃)', '주산지_0_최저온도(℃)',\n",
              "       '주산지_0_평균온도(℃)', '주산지_0_강수량(ml)', '주산지_0_습도(%)', '주산지_1_초기온도(℃)',\n",
              "       '주산지_1_최대온도(℃)', '주산지_1_최저온도(℃)', '주산지_1_평균온도(℃)', '주산지_1_강수량(ml)',\n",
              "       '주산지_1_습도(%)', '주산지_2_초기온도(℃)', '주산지_2_최대온도(℃)', '주산지_2_최저온도(℃)',\n",
              "       '주산지_2_평균온도(℃)', '주산지_2_강수량(ml)', '주산지_2_습도(%)', '일자구분_중순', '일자구분_초순',\n",
              "       '일자구분_하순', '월구분_10월', '월구분_11월', '월구분_12월', '월구분_1월', '월구분_2월',\n",
              "       '월구분_3월', '월구분_4월', '월구분_5월', '월구분_6월', '월구분_7월', '월구분_8월', '월구분_9월',\n",
              "       'datetime', 'week_day', 'year'],\n",
              "      dtype='object')"
            ]
          },
          "metadata": {},
          "execution_count": 1418
        }
      ]
    },
    {
      "cell_type": "code",
      "source": [
        "#train.drop(tr_del_list, axis=1, inplace=True)\n",
        "train.set_index('datadate', drop=True, inplace=True)"
      ],
      "metadata": {
        "id": "xuiTs4O-HTYX"
      },
      "execution_count": null,
      "outputs": []
    },
    {
      "cell_type": "markdown",
      "source": [
        "## 상관관계 분석\n",
        "- 어떤 피쳐가 중요한지 알기 위해 상관관계 분석을 해보았다"
      ],
      "metadata": {
        "id": "q5goUdz361Op"
      }
    },
    {
      "cell_type": "code",
      "source": [
        "train_col = train[['해당일자_전체평균가격(원)','상위가격 평균가(원)','하위가격 평균가(원)','상위가격 거래물량(kg)','하위가격 거래물량(kg)']]"
      ],
      "metadata": {
        "id": "Xl9tJ8TUMQ-G"
      },
      "execution_count": null,
      "outputs": []
    },
    {
      "cell_type": "code",
      "source": [
        "import seaborn as sns \n",
        "\n",
        "plt.figure(figsize=(10,8))\n",
        "sns.heatmap(data = train_col.corr(method='pearson'), annot=True, fmt='.2f', linewidths=.5, cmap='Blues')"
      ],
      "metadata": {
        "colab": {
          "base_uri": "https://localhost:8080/",
          "height": 606
        },
        "id": "5EaKuGXKao8h",
        "outputId": "60e75e7c-ea55-430e-fdc0-c58a9c594018"
      },
      "execution_count": null,
      "outputs": [
        {
          "output_type": "execute_result",
          "data": {
            "text/plain": [
              "<matplotlib.axes._subplots.AxesSubplot at 0x7f09f8709650>"
            ]
          },
          "metadata": {},
          "execution_count": 1421
        },
        {
          "output_type": "display_data",
          "data": {
            "text/plain": [
              "<Figure size 720x576 with 2 Axes>"
            ],
            "image/png": "[encoded data removed]"
          },
          "metadata": {}
        }
      ]
    },
    {
      "cell_type": "markdown",
      "source": [
        "- 중요해 보이는 피쳐들\n",
        "\n",
        "  1) 상위가격 평균가(원)\n",
        "\n",
        "  2) 하위가격 평균가(원)\n",
        "\n",
        "위 2개의 피쳐들을 이용해서 파생변수들을 만들어 보자"
      ],
      "metadata": {
        "id": "krzsxcCL7JIY"
      }
    },
    {
      "cell_type": "markdown",
      "source": [
        "## 피쳐 추가\n",
        "- 상관관계 분석에서 중요해 보이는 피쳐들을 이용해 피쳐 추가를 해보았다.\n",
        "- 평균 매출액을 구하기위해 상/하위 거래물량(kg) 피쳐도 이용해 새로운 피쳐를 만들어 보았다."
      ],
      "metadata": {
        "id": "gUPN29RsqX1h"
      }
    },
    {
      "cell_type": "markdown",
      "source": [
        "### 1) 상위가격과 하위가격의 차이(differ)"
      ],
      "metadata": {
        "id": "d76pASF-cHjh"
      }
    },
    {
      "cell_type": "code",
      "source": [
        "train['differ'] = train['상위가격 평균가(원)'] - train['하위가격 평균가(원)']"
      ],
      "metadata": {
        "id": "LUL7vbCJdLWo"
      },
      "execution_count": null,
      "outputs": []
    },
    {
      "cell_type": "markdown",
      "source": [
        "### 2) 상위 가격의 평균 매출액과 하위 가격의 평균 매출액의 합(plus)"
      ],
      "metadata": {
        "id": "526Ko5NyP11a"
      }
    },
    {
      "cell_type": "code",
      "source": [
        "train['plus'] = train['상위가격 평균가(원)']*train['상위가격 거래물량(kg)'] + train['하위가격 평균가(원)']*train['하위가격 거래물량(kg)']"
      ],
      "metadata": {
        "id": "WjYOzgnZP7jS"
      },
      "execution_count": null,
      "outputs": []
    },
    {
      "cell_type": "markdown",
      "source": [
        "### 3) 상위와 하위의 거래물량 차이(kg_differ)"
      ],
      "metadata": {
        "id": "zDnbpIb8P7g8"
      }
    },
    {
      "cell_type": "code",
      "source": [
        "train['kg_differ'] = train['상위가격 거래물량(kg)'] - train['하위가격 거래물량(kg)']"
      ],
      "metadata": {
        "id": "Fa7QnHiEP7cE"
      },
      "execution_count": null,
      "outputs": []
    },
    {
      "cell_type": "markdown",
      "source": [
        "### 4) 상위 가격의 평균 매출액과 하위 가격의 평균 매출액의 차이(m)"
      ],
      "metadata": {
        "id": "rowU4X6pP7Zx"
      }
    },
    {
      "cell_type": "code",
      "source": [
        "train['m'] = train['상위가격 평균가(원)']*train['상위가격 거래물량(kg)'] - train['하위가격 평균가(원)']*train['하위가격 거래물량(kg)']"
      ],
      "metadata": {
        "id": "yM3tYanSP7VP"
      },
      "execution_count": null,
      "outputs": []
    },
    {
      "cell_type": "markdown",
      "source": [
        "### 5) 소매와 도매 가격 차이(sale_price)"
      ],
      "metadata": {
        "id": "PJZJyiY_TKVN"
      }
    },
    {
      "cell_type": "code",
      "source": [
        "train['sale_price'] = train['일자별_소매가격_평균(원)'] - train['일자별_도매가격_평균(원)']"
      ],
      "metadata": {
        "id": "c3nkvNSQTQMe"
      },
      "execution_count": null,
      "outputs": []
    },
    {
      "cell_type": "markdown",
      "source": [
        "## 피쳐 추가 후 상관관계 분석"
      ],
      "metadata": {
        "id": "1q4U_EzT_GDe"
      }
    },
    {
      "cell_type": "code",
      "source": [
        "train_add = train[['해당일자_전체평균가격(원)', '상위가격 평균가(원)','하위가격 평균가(원)','상위가격 거래물량(kg)','하위가격 거래물량(kg)','differ','plus','kg_differ','m']]"
      ],
      "metadata": {
        "id": "8wbR4ZpRNUtX"
      },
      "execution_count": null,
      "outputs": []
    },
    {
      "cell_type": "code",
      "source": [
        "import seaborn as sns \n",
        "\n",
        "plt.figure(figsize=(15,10))\n",
        "sns.heatmap(data = train_add.corr(method='pearson'), annot=True, fmt='.2f', linewidths=.5, cmap='Blues')"
      ],
      "metadata": {
        "colab": {
          "base_uri": "https://localhost:8080/",
          "height": 715
        },
        "id": "yjitwvqW9IXs",
        "outputId": "579fc63b-39bd-4141-e328-b843846d4efe"
      },
      "execution_count": null,
      "outputs": [
        {
          "output_type": "execute_result",
          "data": {
            "text/plain": [
              "<matplotlib.axes._subplots.AxesSubplot at 0x7f09faee38d0>"
            ]
          },
          "metadata": {},
          "execution_count": 1428
        },
        {
          "output_type": "display_data",
          "data": {
            "text/plain": [
              "<Figure size 1080x720 with 2 Axes>"
            ],
            "image/png": "[encoded data removed]"
          },
          "metadata": {}
        }
      ]
    },
    {
      "cell_type": "markdown",
      "source": [
        "- 상관관계 분석의 결과를 보니 파생된 피쳐들이 타겟 변수와 높은 상관관계를 나타내는 것을 볼 수 있다."
      ],
      "metadata": {
        "id": "hKYd3rfb_OGc"
      }
    },
    {
      "cell_type": "markdown",
      "source": [
        "### 요일 원핫인코딩\n",
        "- 요일 원핫인코딩을 한 이유는 요일들을 독립적으로 만들어 주기 위해서이다."
      ],
      "metadata": {
        "id": "Gsy0eQO_bHDI"
      }
    },
    {
      "cell_type": "code",
      "source": [
        "train=pd.get_dummies(train,columns=['week_day'])\n",
        "train.head()"
      ],
      "metadata": {
        "colab": {
          "base_uri": "https://localhost:8080/",
          "height": 363
        },
        "id": "yfdABPW6bKPs",
        "outputId": "c1af12aa-0343-4ce6-bdfa-3d7c8c06d3aa"
      },
      "execution_count": null,
      "outputs": [
        {
          "output_type": "execute_result",
          "data": {
            "text/plain": [
              "            단가(원)    거래량    거래대금(원)  경매건수    도매시장코드      도매법인코드  산지코드   \\\n",
              "datadate                                                                 \n",
              "20130102  6143.85    2.0    12312.3   1.0  371501.0  37150102.0  740.0   \n",
              "20130103  1898.10   48.0    91108.8   1.0  230001.0  23000102.0  800.0   \n",
              "20130104  8488.48  120.0  1019018.0   3.0  230001.0  23000101.0  323.0   \n",
              "20130105  3556.44  540.0  1921077.0   4.0  371501.0  37150102.0  742.0   \n",
              "20130106  1878.12   40.0    75075.0   2.0  230001.0  23000104.0  800.0   \n",
              "\n",
              "          해당일자_전체평균가격(원)  해당일자_전체거래물량(kg)  하위가격 평균가(원)  ...  kg_differ  \\\n",
              "datadate                                                ...              \n",
              "20130102    20712.240909             22.0  4605.775000  ...       -2.0   \n",
              "20130103     3401.863678            541.0  2003.085396  ...     -267.0   \n",
              "20130104     6553.903226            279.0  2266.215190  ...      121.0   \n",
              "20130105     4299.079157           1233.0  2882.419857  ...     -721.0   \n",
              "20130106     4669.031061            396.0  2192.328522  ...     -186.0   \n",
              "\n",
              "                   m     sale_price  week_day_0  week_day_1  week_day_2  \\\n",
              "datadate                                                                  \n",
              "20130102   345130.70 -174501.477273           0           0           0   \n",
              "20130103   221915.25 -174501.477273           0           0           0   \n",
              "20130104  1470477.00 -174501.477273           0           0           0   \n",
              "20130105  -331483.80 -174501.477273           0           0           0   \n",
              "20130106   573001.10 -173513.068182           1           0           0   \n",
              "\n",
              "          week_day_3  week_day_4  week_day_5  week_day_6  \n",
              "datadate                                                  \n",
              "20130102           1           0           0           0  \n",
              "20130103           0           1           0           0  \n",
              "20130104           0           0           1           0  \n",
              "20130105           0           0           0           1  \n",
              "20130106           0           0           0           0  \n",
              "\n",
              "[5 rows x 71 columns]"
            ],
            "text/html": [
              "\n",
              "  <div id=\"df-78597b7a-881d-45c4-9838-2bccdd904fae\">\n",
              "    <div class=\"colab-df-container\">\n",
              "      <div>\n",
              "<style scoped>\n",
              "    .dataframe tbody tr th:only-of-type {\n",
              "        vertical-align: middle;\n",
              "    }\n",
              "\n",
              "    .dataframe tbody tr th {\n",
              "        vertical-align: top;\n",
              "    }\n",
              "\n",
              "    .dataframe thead th {\n",
              "        text-align: right;\n",
              "    }\n",
              "</style>\n",
              "<table border=\"1\" class=\"dataframe\">\n",
              "  <thead>\n",
              "    <tr style=\"text-align: right;\">\n",
              "      <th></th>\n",
              "      <th>단가(원)</th>\n",
              "      <th>거래량</th>\n",
              "      <th>거래대금(원)</th>\n",
              "      <th>경매건수</th>\n",
              "      <th>도매시장코드</th>\n",
              "      <th>도매법인코드</th>\n",
              "      <th>산지코드</th>\n",
              "      <th>해당일자_전체평균가격(원)</th>\n",
              "      <th>해당일자_전체거래물량(kg)</th>\n",
              "      <th>하위가격 평균가(원)</th>\n",
              "      <th>...</th>\n",
              "      <th>kg_differ</th>\n",
              "      <th>m</th>\n",
              "      <th>sale_price</th>\n",
              "      <th>week_day_0</th>\n",
              "      <th>week_day_1</th>\n",
              "      <th>week_day_2</th>\n",
              "      <th>week_day_3</th>\n",
              "      <th>week_day_4</th>\n",
              "      <th>week_day_5</th>\n",
              "      <th>week_day_6</th>\n",
              "    </tr>\n",
              "    <tr>\n",
              "      <th>datadate</th>\n",
              "      <th></th>\n",
              "      <th></th>\n",
              "      <th></th>\n",
              "      <th></th>\n",
              "      <th></th>\n",
              "      <th></th>\n",
              "      <th></th>\n",
              "      <th></th>\n",
              "      <th></th>\n",
              "      <th></th>\n",
              "      <th></th>\n",
              "      <th></th>\n",
              "      <th></th>\n",
              "      <th></th>\n",
              "      <th></th>\n",
              "      <th></th>\n",
              "      <th></th>\n",
              "      <th></th>\n",
              "      <th></th>\n",
              "      <th></th>\n",
              "      <th></th>\n",
              "    </tr>\n",
              "  </thead>\n",
              "  <tbody>\n",
              "    <tr>\n",
              "      <th>20130102</th>\n",
              "      <td>6143.85</td>\n",
              "      <td>2.0</td>\n",
              "      <td>12312.3</td>\n",
              "      <td>1.0</td>\n",
              "      <td>371501.0</td>\n",
              "      <td>37150102.0</td>\n",
              "      <td>740.0</td>\n",
              "      <td>20712.240909</td>\n",
              "      <td>22.0</td>\n",
              "      <td>4605.775000</td>\n",
              "      <td>...</td>\n",
              "      <td>-2.0</td>\n",
              "      <td>345130.70</td>\n",
              "      <td>-174501.477273</td>\n",
              "      <td>0</td>\n",
              "      <td>0</td>\n",
              "      <td>0</td>\n",
              "      <td>1</td>\n",
              "      <td>0</td>\n",
              "      <td>0</td>\n",
              "      <td>0</td>\n",
              "    </tr>\n",
              "    <tr>\n",
              "      <th>20130103</th>\n",
              "      <td>1898.10</td>\n",
              "      <td>48.0</td>\n",
              "      <td>91108.8</td>\n",
              "      <td>1.0</td>\n",
              "      <td>230001.0</td>\n",
              "      <td>23000102.0</td>\n",
              "      <td>800.0</td>\n",
              "      <td>3401.863678</td>\n",
              "      <td>541.0</td>\n",
              "      <td>2003.085396</td>\n",
              "      <td>...</td>\n",
              "      <td>-267.0</td>\n",
              "      <td>221915.25</td>\n",
              "      <td>-174501.477273</td>\n",
              "      <td>0</td>\n",
              "      <td>0</td>\n",
              "      <td>0</td>\n",
              "      <td>0</td>\n",
              "      <td>1</td>\n",
              "      <td>0</td>\n",
              "      <td>0</td>\n",
              "    </tr>\n",
              "    <tr>\n",
              "      <th>20130104</th>\n",
              "      <td>8488.48</td>\n",
              "      <td>120.0</td>\n",
              "      <td>1019018.0</td>\n",
              "      <td>3.0</td>\n",
              "      <td>230001.0</td>\n",
              "      <td>23000101.0</td>\n",
              "      <td>323.0</td>\n",
              "      <td>6553.903226</td>\n",
              "      <td>279.0</td>\n",
              "      <td>2266.215190</td>\n",
              "      <td>...</td>\n",
              "      <td>121.0</td>\n",
              "      <td>1470477.00</td>\n",
              "      <td>-174501.477273</td>\n",
              "      <td>0</td>\n",
              "      <td>0</td>\n",
              "      <td>0</td>\n",
              "      <td>0</td>\n",
              "      <td>0</td>\n",
              "      <td>1</td>\n",
              "      <td>0</td>\n",
              "    </tr>\n",
              "    <tr>\n",
              "      <th>20130105</th>\n",
              "      <td>3556.44</td>\n",
              "      <td>540.0</td>\n",
              "      <td>1921077.0</td>\n",
              "      <td>4.0</td>\n",
              "      <td>371501.0</td>\n",
              "      <td>37150102.0</td>\n",
              "      <td>742.0</td>\n",
              "      <td>4299.079157</td>\n",
              "      <td>1233.0</td>\n",
              "      <td>2882.419857</td>\n",
              "      <td>...</td>\n",
              "      <td>-721.0</td>\n",
              "      <td>-331483.80</td>\n",
              "      <td>-174501.477273</td>\n",
              "      <td>0</td>\n",
              "      <td>0</td>\n",
              "      <td>0</td>\n",
              "      <td>0</td>\n",
              "      <td>0</td>\n",
              "      <td>0</td>\n",
              "      <td>1</td>\n",
              "    </tr>\n",
              "    <tr>\n",
              "      <th>20130106</th>\n",
              "      <td>1878.12</td>\n",
              "      <td>40.0</td>\n",
              "      <td>75075.0</td>\n",
              "      <td>2.0</td>\n",
              "      <td>230001.0</td>\n",
              "      <td>23000104.0</td>\n",
              "      <td>800.0</td>\n",
              "      <td>4669.031061</td>\n",
              "      <td>396.0</td>\n",
              "      <td>2192.328522</td>\n",
              "      <td>...</td>\n",
              "      <td>-186.0</td>\n",
              "      <td>573001.10</td>\n",
              "      <td>-173513.068182</td>\n",
              "      <td>1</td>\n",
              "      <td>0</td>\n",
              "      <td>0</td>\n",
              "      <td>0</td>\n",
              "      <td>0</td>\n",
              "      <td>0</td>\n",
              "      <td>0</td>\n",
              "    </tr>\n",
              "  </tbody>\n",
              "</table>\n",
              "<p>5 rows × 71 columns</p>\n",
              "</div>\n",
              "      <button class=\"colab-df-convert\" onclick=\"convertToInteractive('df-78597b7a-881d-45c4-9838-2bccdd904fae')\"\n",
              "              title=\"Convert this dataframe to an interactive table.\"\n",
              "              style=\"display:none;\">\n",
              "        \n",
              "  <svg xmlns=\"http://www.w3.org/2000/svg\" height=\"24px\"viewBox=\"0 0 24 24\"\n",
              "       width=\"24px\">\n",
              "    <path d=\"M0 0h24v24H0V0z\" fill=\"none\"/>\n",
              "    <path d=\"M18.56 5.44l.94 2.06.94-2.06 2.06-.94-2.06-.94-.94-2.06-.94 2.06-2.06.94zm-11 1L8.5 8.5l.94-2.06 2.06-.94-2.06-.94L8.5 2.5l-.94 2.06-2.06.94zm10 10l.94 2.06.94-2.06 2.06-.94-2.06-.94-.94-2.06-.94 2.06-2.06.94z\"/><path d=\"M17.41 7.96l-1.37-1.37c-.4-.4-.92-.59-1.43-.59-.52 0-1.04.2-1.43.59L10.3 9.45l-7.72 7.72c-.78.78-.78 2.05 0 2.83L4 21.41c.39.39.9.59 1.41.59.51 0 1.02-.2 1.41-.59l7.78-7.78 2.81-2.81c.8-.78.8-2.07 0-2.86zM5.41 20L4 18.59l7.72-7.72 1.47 1.35L5.41 20z\"/>\n",
              "  </svg>\n",
              "      </button>\n",
              "      \n",
              "  <style>\n",
              "    .colab-df-container {\n",
              "      display:flex;\n",
              "      flex-wrap:wrap;\n",
              "      gap: 12px;\n",
              "    }\n",
              "\n",
              "    .colab-df-convert {\n",
              "      background-color: #E8F0FE;\n",
              "      border: none;\n",
              "      border-radius: 50%;\n",
              "      cursor: pointer;\n",
              "      display: none;\n",
              "      fill: #1967D2;\n",
              "      height: 32px;\n",
              "      padding: 0 0 0 0;\n",
              "      width: 32px;\n",
              "    }\n",
              "\n",
              "    .colab-df-convert:hover {\n",
              "      background-color: #E2EBFA;\n",
              "      box-shadow: 0px 1px 2px rgba(60, 64, 67, 0.3), 0px 1px 3px 1px rgba(60, 64, 67, 0.15);\n",
              "      fill: #174EA6;\n",
              "    }\n",
              "\n",
              "    [theme=dark] .colab-df-convert {\n",
              "      background-color: #3B4455;\n",
              "      fill: #D2E3FC;\n",
              "    }\n",
              "\n",
              "    [theme=dark] .colab-df-convert:hover {\n",
              "      background-color: #434B5C;\n",
              "      box-shadow: 0px 1px 3px 1px rgba(0, 0, 0, 0.15);\n",
              "      filter: drop-shadow(0px 1px 2px rgba(0, 0, 0, 0.3));\n",
              "      fill: #FFFFFF;\n",
              "    }\n",
              "  </style>\n",
              "\n",
              "      <script>\n",
              "        const buttonEl =\n",
              "          document.querySelector('#df-78597b7a-881d-45c4-9838-2bccdd904fae button.colab-df-convert');\n",
              "        buttonEl.style.display =\n",
              "          google.colab.kernel.accessAllowed ? 'block' : 'none';\n",
              "\n",
              "        async function convertToInteractive(key) {\n",
              "          const element = document.querySelector('#df-78597b7a-881d-45c4-9838-2bccdd904fae');\n",
              "          const dataTable =\n",
              "            await google.colab.kernel.invokeFunction('convertToInteractive',\n",
              "                                                     [key], {});\n",
              "          if (!dataTable) return;\n",
              "\n",
              "          const docLinkHtml = 'Like what you see? Visit the ' +\n",
              "            '<a target=\"_blank\" href=https://colab.research.google.com/notebooks/data_table.ipynb>data table notebook</a>'\n",
              "            + ' to learn more about interactive tables.';\n",
              "          element.innerHTML = '';\n",
              "          dataTable['output_type'] = 'display_data';\n",
              "          await google.colab.output.renderOutput(dataTable, element);\n",
              "          const docLink = document.createElement('div');\n",
              "          docLink.innerHTML = docLinkHtml;\n",
              "          element.appendChild(docLink);\n",
              "        }\n",
              "      </script>\n",
              "    </div>\n",
              "  </div>\n",
              "  "
            ]
          },
          "metadata": {},
          "execution_count": 1429
        }
      ]
    },
    {
      "cell_type": "markdown",
      "source": [
        "- week_day_0부터 week_day_6까지 요일 원핫인코딩이 잘 실행되었다."
      ],
      "metadata": {
        "id": "hhcuQi0f8cBv"
      }
    },
    {
      "cell_type": "markdown",
      "source": [
        "# 이상치 제거"
      ],
      "metadata": {
        "id": "DOgWLI3sDioQ"
      }
    },
    {
      "cell_type": "code",
      "source": [
        "plt.figure(figsize = (20, 9))\n",
        "sns.lineplot(x = train['datetime'], y = train['해당일자_전체평균가격(원)'])\n",
        "plt.xlabel('time')\n",
        "plt.ylabel('price')\n",
        "plt.show()"
      ],
      "metadata": {
        "colab": {
          "base_uri": "https://localhost:8080/",
          "height": 553
        },
        "id": "VYqbq2vKDmLP",
        "outputId": "73f4ab0f-acb5-41a9-e1d9-9f88c0331f70"
      },
      "execution_count": null,
      "outputs": [
        {
          "output_type": "display_data",
          "data": {
            "text/plain": [
              "<Figure size 1440x648 with 1 Axes>"
            ],
            "image/png": "[encoded data removed]"
          },
          "metadata": {}
        }
      ]
    },
    {
      "cell_type": "markdown",
      "source": [
        "- 위 그래프를 보면 20000이상부터 극도로 높은 수치가 보여 20000이상을 이상치로 판단했다."
      ],
      "metadata": {
        "id": "zBVMgT61Bv1I"
      }
    },
    {
      "cell_type": "code",
      "source": [
        "# train = train[train['해당일자_전체평균가격(원)'] <= 20000]"
      ],
      "metadata": {
        "id": "hQWQyhL9Sitr"
      },
      "execution_count": null,
      "outputs": []
    },
    {
      "cell_type": "markdown",
      "source": [
        "## 독립변수 별 이상치 확인"
      ],
      "metadata": {
        "id": "qFk9algJswoM"
      }
    },
    {
      "cell_type": "code",
      "source": [
        "col=['해당일자_전체평균가격(원)', '해당일자_전체거래물량(kg)', '하위가격 평균가(원)', '상위가격 평균가(원)',\n",
        "       '하위가격 거래물량(kg)', '상위가격 거래물량(kg)', '일자별_도매가격_최대(원)', '일자별_도매가격_평균(원)',\n",
        "       '일자별_도매가격_최소(원)', '일자별_소매가격_최대(원)', '일자별_소매가격_평균(원)', '일자별_소매가격_최소(원)',\n",
        "       '수출중량(kg)', '수출금액(달러)', '수입중량(kg)', '수입금액(달러)', '무역수지(달러)',\n",
        "       '주산지_0_초기온도(℃)', '주산지_0_최대온도(℃)', '주산지_0_최저온도(℃)', '주산지_0_평균온도(℃)',\n",
        "       '주산지_0_강수량(ml)', '주산지_1_초기온도(℃)', '주산지_1_최대온도(℃)', '주산지_1_최저온도(℃)',\n",
        "       '주산지_1_평균온도(℃)', '주산지_1_강수량(ml)', '주산지_1_습도(%)', '주산지_2_초기온도(℃)',\n",
        "       '주산지_2_최대온도(℃)', '주산지_2_최저온도(℃)', '주산지_2_평균온도(℃)', '주산지_2_강수량(ml)','differ','plus','kg_differ','m','sale_price']"
      ],
      "metadata": {
        "id": "nVrWSFvt5k-M"
      },
      "execution_count": null,
      "outputs": []
    },
    {
      "cell_type": "code",
      "source": [
        "# plt.style.use(\"ggplot\")\n",
        "\n",
        "# feature = col\n",
        "\n",
        "# plt.figure(figsize=(30,15))\n",
        "# plt.suptitle(\"독립변수별 이상치 확인\", fontsize = 30)\n",
        "\n",
        "# for i in range(len(col)):\n",
        "#   plt.subplot(5,8,i+1)\n",
        "#   plt.title(feature[i])\n",
        "#   plt.hist(train[feature[i]])\n",
        "# plt.show()"
      ],
      "metadata": {
        "id": "vTSBUTSJyF01"
      },
      "execution_count": null,
      "outputs": []
    },
    {
      "cell_type": "markdown",
      "source": [
        "## 로그 - 사용x\n",
        "- 로그를 사용한 독립변수 별 이상치 확인"
      ],
      "metadata": {
        "id": "IeEsYRDbrfDz"
      }
    },
    {
      "cell_type": "code",
      "source": [
        "# col_log = ['해당일자_전체평균가격(원)', '해당일자_전체거래물량(kg)', '하위가격 평균가(원)', '상위가격 평균가(원)',\n",
        "#        '하위가격 거래물량(kg)', '상위가격 거래물량(kg)', '일자별_도매가격_최대(원)', '일자별_도매가격_평균(원)',\n",
        "#        '일자별_도매가격_최소(원)', '일자별_소매가격_최대(원)', '일자별_소매가격_평균(원)', '일자별_소매가격_최소(원)',\n",
        "#        '수출중량(kg)', '수출금액(달러)', '수입중량(kg)', '수입금액(달러)','주산지_0_강수량(ml)','주산지_1_강수량(ml)','주산지_2_강수량(ml)','differ','plus']"
      ],
      "metadata": {
        "id": "JgoqpcAs8C_n"
      },
      "execution_count": null,
      "outputs": []
    },
    {
      "cell_type": "code",
      "source": [
        "# plt.style.use(\"ggplot\")\n",
        "\n",
        "# feature = col_log\n",
        "\n",
        "# plt.figure(figsize=(30,15))\n",
        "# plt.suptitle(\"독립변수별 이상치 확인\", fontsize = 30)\n",
        "\n",
        "# for i in range(len(col_log)):\n",
        "#   plt.subplot(5,8,i+1)\n",
        "#   plt.title(feature[i])\n",
        "#   plt.hist(np.log1p(train[feature[i]]))\n",
        "# plt.show()"
      ],
      "metadata": {
        "id": "rK1X6Phzy-fd"
      },
      "execution_count": null,
      "outputs": []
    },
    {
      "cell_type": "code",
      "source": [
        "# train['상위가격 평균가(원)']=np.log1p(train['상위가격 평균가(원)'])\n",
        "# train['하위가격 평균가(원)']=np.log1p(train['하위가격 평균가(원)'])\n",
        "# train['해당일자_전체거래물량(kg)']=np.log1p(train['해당일자_전체거래물량(kg)'])\n",
        "# train['하위가격 거래물량(kg)']=np.log1p(train['하위가격 거래물량(kg)'])\n",
        "# train['상위가격 거래물량(kg)']=np.log1p(train['상위가격 거래물량(kg)'])\n",
        "# train['plus']=np.log1p(train['plus'])"
      ],
      "metadata": {
        "id": "sjoSaP8UvVU6"
      },
      "execution_count": null,
      "outputs": []
    },
    {
      "cell_type": "markdown",
      "source": [
        "최종적으로 로그를 사용했을 때, 정규화에 잘 근접하게 된 피쳐들\n",
        "\n",
        "    1) 해당일자_전체거래물량(kg)\n",
        "    2) 하위가격 평균가(원)\n",
        "    3) 상위가격 평균가(원)\n",
        "    4) 하위가격 거래물량(kg)\n",
        "    5) 상위가격 거래물량(kg)\n",
        "    6) plus\n",
        "\n",
        "을 골라 로그를 사용해 train셋에 적용해 주었다."
      ],
      "metadata": {
        "id": "3Qqn_tIGDg2o"
      }
    },
    {
      "cell_type": "markdown",
      "source": [
        "## 스케일링(MinMaxScaler)\n",
        "- MinMaxScaler(정규화 작업)\n",
        "- 정규화란, 모든 값을 0~1 사이의 값으로 바꾸는 것이다. 음수도 예외 없이 다 바꾼다."
      ],
      "metadata": {
        "id": "9d2Wpyv6SwJT"
      }
    },
    {
      "cell_type": "code",
      "source": [
        "train.columns"
      ],
      "metadata": {
        "colab": {
          "base_uri": "https://localhost:8080/"
        },
        "id": "Rtm2v_hcSwum",
        "outputId": "f2322b1f-53b5-4eba-de84-727cb9abed1d"
      },
      "execution_count": null,
      "outputs": [
        {
          "output_type": "execute_result",
          "data": {
            "text/plain": [
              "Index(['단가(원)', '거래량', '거래대금(원)', '경매건수', '도매시장코드', '도매법인코드', '산지코드 ',\n",
              "       '해당일자_전체평균가격(원)', '해당일자_전체거래물량(kg)', '하위가격 평균가(원)', '상위가격 평균가(원)',\n",
              "       '하위가격 거래물량(kg)', '상위가격 거래물량(kg)', '일자별_도매가격_최대(원)', '일자별_도매가격_평균(원)',\n",
              "       '일자별_도매가격_최소(원)', '일자별_소매가격_최대(원)', '일자별_소매가격_평균(원)', '일자별_소매가격_최소(원)',\n",
              "       '수출중량(kg)', '수출금액(달러)', '수입중량(kg)', '수입금액(달러)', '무역수지(달러)',\n",
              "       '주산지_0_초기온도(℃)', '주산지_0_최대온도(℃)', '주산지_0_최저온도(℃)', '주산지_0_평균온도(℃)',\n",
              "       '주산지_0_강수량(ml)', '주산지_0_습도(%)', '주산지_1_초기온도(℃)', '주산지_1_최대온도(℃)',\n",
              "       '주산지_1_최저온도(℃)', '주산지_1_평균온도(℃)', '주산지_1_강수량(ml)', '주산지_1_습도(%)',\n",
              "       '주산지_2_초기온도(℃)', '주산지_2_최대온도(℃)', '주산지_2_최저온도(℃)', '주산지_2_평균온도(℃)',\n",
              "       '주산지_2_강수량(ml)', '주산지_2_습도(%)', '일자구분_중순', '일자구분_초순', '일자구분_하순',\n",
              "       '월구분_10월', '월구분_11월', '월구분_12월', '월구분_1월', '월구분_2월', '월구분_3월', '월구분_4월',\n",
              "       '월구분_5월', '월구분_6월', '월구분_7월', '월구분_8월', '월구분_9월', 'datetime', 'year',\n",
              "       'differ', 'plus', 'kg_differ', 'm', 'sale_price', 'week_day_0',\n",
              "       'week_day_1', 'week_day_2', 'week_day_3', 'week_day_4', 'week_day_5',\n",
              "       'week_day_6'],\n",
              "      dtype='object')"
            ]
          },
          "metadata": {},
          "execution_count": 1437
        }
      ]
    },
    {
      "cell_type": "code",
      "source": [
        "from sklearn.preprocessing import MinMaxScaler\n",
        "\n",
        "scaler = MinMaxScaler()\n",
        "scale_cols = ['상위가격 평균가(원)', '하위가격 평균가(원)', '수입중량(kg)',\n",
        "              '단가(원)', '거래량','differ', 'plus','kg_differ', 'm']\n",
        "                \n",
        "scaled = scaler.fit_transform(train[scale_cols])\n",
        "\n",
        "train[scale_cols] = scaled\n",
        "\n",
        "train[scale_cols]"
      ],
      "metadata": {
        "colab": {
          "base_uri": "https://localhost:8080/",
          "height": 455
        },
        "id": "Pr3oixoxSDem",
        "outputId": "5121ab28-b646-432b-ead0-76484a2989d3"
      },
      "execution_count": null,
      "outputs": [
        {
          "output_type": "execute_result",
          "data": {
            "text/plain": [
              "          상위가격 평균가(원)  하위가격 평균가(원)  수입중량(kg)     단가(원)       거래량    differ  \\\n",
              "datadate                                                                     \n",
              "20130102     0.799187     0.665472   1.00000  0.126323  0.000198  0.780516   \n",
              "20130103     0.140349     0.267436   1.00000  0.035635  0.009309  0.137112   \n",
              "20130104     0.154955     0.307677   1.00000  0.176403  0.023569  0.146957   \n",
              "20130105     0.184501     0.401915   1.00000  0.071057  0.106754  0.165067   \n",
              "20130106     0.221531     0.296377   1.00000  0.035208  0.007724  0.219221   \n",
              "...               ...          ...       ...       ...       ...       ...   \n",
              "20161226     0.196234     0.421302   0.72019  0.082327  0.018023  0.174794   \n",
              "20161228     0.189617     0.361351   0.72019  0.053890  0.011685  0.176203   \n",
              "20161229     0.179150     0.562846   0.72019  0.208902  0.003367  0.136750   \n",
              "20161230     0.190630     0.524421   0.72019  0.238836  0.000594  0.154342   \n",
              "20161231     0.186860     0.619632   0.72019  0.197806  0.031491  0.136947   \n",
              "\n",
              "              plus  kg_differ         m  \n",
              "datadate                                 \n",
              "20130102  0.002488   0.286289  0.146404  \n",
              "20130103  0.010506   0.277403  0.145453  \n",
              "20130104  0.010437   0.290413  0.155086  \n",
              "20130105  0.030541   0.262180  0.141184  \n",
              "20130106  0.010555   0.280119  0.148162  \n",
              "...            ...        ...       ...  \n",
              "20161226  0.017068   0.288770  0.158884  \n",
              "20161228  0.056451   0.284043  0.185560  \n",
              "20161229  0.016661   0.286121  0.152663  \n",
              "20161230  0.036839   0.283540  0.163019  \n",
              "20161231  0.023832   0.289307  0.160282  \n",
              "\n",
              "[1224 rows x 9 columns]"
            ],
            "text/html": [
              "\n",
              "  <div id=\"df-81920435-ccff-41fc-abbd-22eacbb3fc2d\">\n",
              "    <div class=\"colab-df-container\">\n",
              "      <div>\n",
              "<style scoped>\n",
              "    .dataframe tbody tr th:only-of-type {\n",
              "        vertical-align: middle;\n",
              "    }\n",
              "\n",
              "    .dataframe tbody tr th {\n",
              "        vertical-align: top;\n",
              "    }\n",
              "\n",
              "    .dataframe thead th {\n",
              "        text-align: right;\n",
              "    }\n",
              "</style>\n",
              "<table border=\"1\" class=\"dataframe\">\n",
              "  <thead>\n",
              "    <tr style=\"text-align: right;\">\n",
              "      <th></th>\n",
              "      <th>상위가격 평균가(원)</th>\n",
              "      <th>하위가격 평균가(원)</th>\n",
              "      <th>수입중량(kg)</th>\n",
              "      <th>단가(원)</th>\n",
              "      <th>거래량</th>\n",
              "      <th>differ</th>\n",
              "      <th>plus</th>\n",
              "      <th>kg_differ</th>\n",
              "      <th>m</th>\n",
              "    </tr>\n",
              "    <tr>\n",
              "      <th>datadate</th>\n",
              "      <th></th>\n",
              "      <th></th>\n",
              "      <th></th>\n",
              "      <th></th>\n",
              "      <th></th>\n",
              "      <th></th>\n",
              "      <th></th>\n",
              "      <th></th>\n",
              "      <th></th>\n",
              "    </tr>\n",
              "  </thead>\n",
              "  <tbody>\n",
              "    <tr>\n",
              "      <th>20130102</th>\n",
              "      <td>0.799187</td>\n",
              "      <td>0.665472</td>\n",
              "      <td>1.00000</td>\n",
              "      <td>0.126323</td>\n",
              "      <td>0.000198</td>\n",
              "      <td>0.780516</td>\n",
              "      <td>0.002488</td>\n",
              "      <td>0.286289</td>\n",
              "      <td>0.146404</td>\n",
              "    </tr>\n",
              "    <tr>\n",
              "      <th>20130103</th>\n",
              "      <td>0.140349</td>\n",
              "      <td>0.267436</td>\n",
              "      <td>1.00000</td>\n",
              "      <td>0.035635</td>\n",
              "      <td>0.009309</td>\n",
              "      <td>0.137112</td>\n",
              "      <td>0.010506</td>\n",
              "      <td>0.277403</td>\n",
              "      <td>0.145453</td>\n",
              "    </tr>\n",
              "    <tr>\n",
              "      <th>20130104</th>\n",
              "      <td>0.154955</td>\n",
              "      <td>0.307677</td>\n",
              "      <td>1.00000</td>\n",
              "      <td>0.176403</td>\n",
              "      <td>0.023569</td>\n",
              "      <td>0.146957</td>\n",
              "      <td>0.010437</td>\n",
              "      <td>0.290413</td>\n",
              "      <td>0.155086</td>\n",
              "    </tr>\n",
              "    <tr>\n",
              "      <th>20130105</th>\n",
              "      <td>0.184501</td>\n",
              "      <td>0.401915</td>\n",
              "      <td>1.00000</td>\n",
              "      <td>0.071057</td>\n",
              "      <td>0.106754</td>\n",
              "      <td>0.165067</td>\n",
              "      <td>0.030541</td>\n",
              "      <td>0.262180</td>\n",
              "      <td>0.141184</td>\n",
              "    </tr>\n",
              "    <tr>\n",
              "      <th>20130106</th>\n",
              "      <td>0.221531</td>\n",
              "      <td>0.296377</td>\n",
              "      <td>1.00000</td>\n",
              "      <td>0.035208</td>\n",
              "      <td>0.007724</td>\n",
              "      <td>0.219221</td>\n",
              "      <td>0.010555</td>\n",
              "      <td>0.280119</td>\n",
              "      <td>0.148162</td>\n",
              "    </tr>\n",
              "    <tr>\n",
              "      <th>...</th>\n",
              "      <td>...</td>\n",
              "      <td>...</td>\n",
              "      <td>...</td>\n",
              "      <td>...</td>\n",
              "      <td>...</td>\n",
              "      <td>...</td>\n",
              "      <td>...</td>\n",
              "      <td>...</td>\n",
              "      <td>...</td>\n",
              "    </tr>\n",
              "    <tr>\n",
              "      <th>20161226</th>\n",
              "      <td>0.196234</td>\n",
              "      <td>0.421302</td>\n",
              "      <td>0.72019</td>\n",
              "      <td>0.082327</td>\n",
              "      <td>0.018023</td>\n",
              "      <td>0.174794</td>\n",
              "      <td>0.017068</td>\n",
              "      <td>0.288770</td>\n",
              "      <td>0.158884</td>\n",
              "    </tr>\n",
              "    <tr>\n",
              "      <th>20161228</th>\n",
              "      <td>0.189617</td>\n",
              "      <td>0.361351</td>\n",
              "      <td>0.72019</td>\n",
              "      <td>0.053890</td>\n",
              "      <td>0.011685</td>\n",
              "      <td>0.176203</td>\n",
              "      <td>0.056451</td>\n",
              "      <td>0.284043</td>\n",
              "      <td>0.185560</td>\n",
              "    </tr>\n",
              "    <tr>\n",
              "      <th>20161229</th>\n",
              "      <td>0.179150</td>\n",
              "      <td>0.562846</td>\n",
              "      <td>0.72019</td>\n",
              "      <td>0.208902</td>\n",
              "      <td>0.003367</td>\n",
              "      <td>0.136750</td>\n",
              "      <td>0.016661</td>\n",
              "      <td>0.286121</td>\n",
              "      <td>0.152663</td>\n",
              "    </tr>\n",
              "    <tr>\n",
              "      <th>20161230</th>\n",
              "      <td>0.190630</td>\n",
              "      <td>0.524421</td>\n",
              "      <td>0.72019</td>\n",
              "      <td>0.238836</td>\n",
              "      <td>0.000594</td>\n",
              "      <td>0.154342</td>\n",
              "      <td>0.036839</td>\n",
              "      <td>0.283540</td>\n",
              "      <td>0.163019</td>\n",
              "    </tr>\n",
              "    <tr>\n",
              "      <th>20161231</th>\n",
              "      <td>0.186860</td>\n",
              "      <td>0.619632</td>\n",
              "      <td>0.72019</td>\n",
              "      <td>0.197806</td>\n",
              "      <td>0.031491</td>\n",
              "      <td>0.136947</td>\n",
              "      <td>0.023832</td>\n",
              "      <td>0.289307</td>\n",
              "      <td>0.160282</td>\n",
              "    </tr>\n",
              "  </tbody>\n",
              "</table>\n",
              "<p>1224 rows × 9 columns</p>\n",
              "</div>\n",
              "      <button class=\"colab-df-convert\" onclick=\"convertToInteractive('df-81920435-ccff-41fc-abbd-22eacbb3fc2d')\"\n",
              "              title=\"Convert this dataframe to an interactive table.\"\n",
              "              style=\"display:none;\">\n",
              "        \n",
              "  <svg xmlns=\"http://www.w3.org/2000/svg\" height=\"24px\"viewBox=\"0 0 24 24\"\n",
              "       width=\"24px\">\n",
              "    <path d=\"M0 0h24v24H0V0z\" fill=\"none\"/>\n",
              "    <path d=\"M18.56 5.44l.94 2.06.94-2.06 2.06-.94-2.06-.94-.94-2.06-.94 2.06-2.06.94zm-11 1L8.5 8.5l.94-2.06 2.06-.94-2.06-.94L8.5 2.5l-.94 2.06-2.06.94zm10 10l.94 2.06.94-2.06 2.06-.94-2.06-.94-.94-2.06-.94 2.06-2.06.94z\"/><path d=\"M17.41 7.96l-1.37-1.37c-.4-.4-.92-.59-1.43-.59-.52 0-1.04.2-1.43.59L10.3 9.45l-7.72 7.72c-.78.78-.78 2.05 0 2.83L4 21.41c.39.39.9.59 1.41.59.51 0 1.02-.2 1.41-.59l7.78-7.78 2.81-2.81c.8-.78.8-2.07 0-2.86zM5.41 20L4 18.59l7.72-7.72 1.47 1.35L5.41 20z\"/>\n",
              "  </svg>\n",
              "      </button>\n",
              "      \n",
              "  <style>\n",
              "    .colab-df-container {\n",
              "      display:flex;\n",
              "      flex-wrap:wrap;\n",
              "      gap: 12px;\n",
              "    }\n",
              "\n",
              "    .colab-df-convert {\n",
              "      background-color: #E8F0FE;\n",
              "      border: none;\n",
              "      border-radius: 50%;\n",
              "      cursor: pointer;\n",
              "      display: none;\n",
              "      fill: #1967D2;\n",
              "      height: 32px;\n",
              "      padding: 0 0 0 0;\n",
              "      width: 32px;\n",
              "    }\n",
              "\n",
              "    .colab-df-convert:hover {\n",
              "      background-color: #E2EBFA;\n",
              "      box-shadow: 0px 1px 2px rgba(60, 64, 67, 0.3), 0px 1px 3px 1px rgba(60, 64, 67, 0.15);\n",
              "      fill: #174EA6;\n",
              "    }\n",
              "\n",
              "    [theme=dark] .colab-df-convert {\n",
              "      background-color: #3B4455;\n",
              "      fill: #D2E3FC;\n",
              "    }\n",
              "\n",
              "    [theme=dark] .colab-df-convert:hover {\n",
              "      background-color: #434B5C;\n",
              "      box-shadow: 0px 1px 3px 1px rgba(0, 0, 0, 0.15);\n",
              "      filter: drop-shadow(0px 1px 2px rgba(0, 0, 0, 0.3));\n",
              "      fill: #FFFFFF;\n",
              "    }\n",
              "  </style>\n",
              "\n",
              "      <script>\n",
              "        const buttonEl =\n",
              "          document.querySelector('#df-81920435-ccff-41fc-abbd-22eacbb3fc2d button.colab-df-convert');\n",
              "        buttonEl.style.display =\n",
              "          google.colab.kernel.accessAllowed ? 'block' : 'none';\n",
              "\n",
              "        async function convertToInteractive(key) {\n",
              "          const element = document.querySelector('#df-81920435-ccff-41fc-abbd-22eacbb3fc2d');\n",
              "          const dataTable =\n",
              "            await google.colab.kernel.invokeFunction('convertToInteractive',\n",
              "                                                     [key], {});\n",
              "          if (!dataTable) return;\n",
              "\n",
              "          const docLinkHtml = 'Like what you see? Visit the ' +\n",
              "            '<a target=\"_blank\" href=https://colab.research.google.com/notebooks/data_table.ipynb>data table notebook</a>'\n",
              "            + ' to learn more about interactive tables.';\n",
              "          element.innerHTML = '';\n",
              "          dataTable['output_type'] = 'display_data';\n",
              "          await google.colab.output.renderOutput(dataTable, element);\n",
              "          const docLink = document.createElement('div');\n",
              "          docLink.innerHTML = docLinkHtml;\n",
              "          element.appendChild(docLink);\n",
              "        }\n",
              "      </script>\n",
              "    </div>\n",
              "  </div>\n",
              "  "
            ]
          },
          "metadata": {},
          "execution_count": 1438
        }
      ]
    },
    {
      "cell_type": "code",
      "source": [
        "# plt.style.use(\"ggplot\")\n",
        "\n",
        "# feature = train.describe().columns\n",
        "\n",
        "# plt.figure(figsize=(30,15))\n",
        "# plt.suptitle(\"독립변수별 이상치 확인\", fontsize = 30)\n",
        "\n",
        "# for i in range(len(col)):\n",
        "#   plt.subplot(5,8,i+1)\n",
        "#   plt.title(feature[i])\n",
        "#   plt.hist(train[feature[i]])\n",
        "# plt.show()"
      ],
      "metadata": {
        "id": "XAGSrCnX00iH"
      },
      "execution_count": null,
      "outputs": []
    },
    {
      "cell_type": "markdown",
      "source": [
        "- 요일, 연도 추가를 위해 만들었던 'datetime' 제거"
      ],
      "metadata": {
        "id": "jfJ85oXunngH"
      }
    },
    {
      "cell_type": "code",
      "source": [
        "train = train.drop(columns = ['datetime'])"
      ],
      "metadata": {
        "id": "uLppX7v6ng52"
      },
      "execution_count": null,
      "outputs": []
    },
    {
      "cell_type": "markdown",
      "source": [
        "## Dtype이 object인 열 제거"
      ],
      "metadata": {
        "id": "_xPg66FOFrHy"
      }
    },
    {
      "cell_type": "code",
      "source": [
        "train.info()"
      ],
      "metadata": {
        "colab": {
          "base_uri": "https://localhost:8080/"
        },
        "id": "s5g2p_VoFhj8",
        "outputId": "aa1309e9-fa05-4740-a582-bbc48a703692"
      },
      "execution_count": null,
      "outputs": [
        {
          "output_type": "stream",
          "name": "stdout",
          "text": [
            "<class 'pandas.core.frame.DataFrame'>\n",
            "Int64Index: 1224 entries, 20130102 to 20161231\n",
            "Data columns (total 70 columns):\n",
            " #   Column           Non-Null Count  Dtype  \n",
            "---  ------           --------------  -----  \n",
            " 0   단가(원)            1224 non-null   float64\n",
            " 1   거래량              1224 non-null   float64\n",
            " 2   거래대금(원)          1224 non-null   float64\n",
            " 3   경매건수             1224 non-null   float64\n",
            " 4   도매시장코드           1224 non-null   float64\n",
            " 5   도매법인코드           1224 non-null   float64\n",
            " 6   산지코드             1224 non-null   float64\n",
            " 7   해당일자_전체평균가격(원)   1224 non-null   float64\n",
            " 8   해당일자_전체거래물량(kg)  1224 non-null   float64\n",
            " 9   하위가격 평균가(원)      1224 non-null   float64\n",
            " 10  상위가격 평균가(원)      1224 non-null   float64\n",
            " 11  하위가격 거래물량(kg)    1224 non-null   float64\n",
            " 12  상위가격 거래물량(kg)    1224 non-null   float64\n",
            " 13  일자별_도매가격_최대(원)   1224 non-null   float64\n",
            " 14  일자별_도매가격_평균(원)   1224 non-null   float64\n",
            " 15  일자별_도매가격_최소(원)   1224 non-null   float64\n",
            " 16  일자별_소매가격_최대(원)   1224 non-null   float64\n",
            " 17  일자별_소매가격_평균(원)   1224 non-null   float64\n",
            " 18  일자별_소매가격_최소(원)   1224 non-null   float64\n",
            " 19  수출중량(kg)         1224 non-null   float64\n",
            " 20  수출금액(달러)         1224 non-null   float64\n",
            " 21  수입중량(kg)         1224 non-null   float64\n",
            " 22  수입금액(달러)         1224 non-null   float64\n",
            " 23  무역수지(달러)         1224 non-null   float64\n",
            " 24  주산지_0_초기온도(℃)    1224 non-null   float64\n",
            " 25  주산지_0_최대온도(℃)    1224 non-null   float64\n",
            " 26  주산지_0_최저온도(℃)    1224 non-null   float64\n",
            " 27  주산지_0_평균온도(℃)    1224 non-null   float64\n",
            " 28  주산지_0_강수량(ml)    1224 non-null   float64\n",
            " 29  주산지_0_습도(%)      1224 non-null   object \n",
            " 30  주산지_1_초기온도(℃)    1224 non-null   float64\n",
            " 31  주산지_1_최대온도(℃)    1224 non-null   float64\n",
            " 32  주산지_1_최저온도(℃)    1224 non-null   float64\n",
            " 33  주산지_1_평균온도(℃)    1224 non-null   float64\n",
            " 34  주산지_1_강수량(ml)    1224 non-null   float64\n",
            " 35  주산지_1_습도(%)      1224 non-null   float64\n",
            " 36  주산지_2_초기온도(℃)    1224 non-null   float64\n",
            " 37  주산지_2_최대온도(℃)    1224 non-null   float64\n",
            " 38  주산지_2_최저온도(℃)    1224 non-null   float64\n",
            " 39  주산지_2_평균온도(℃)    1224 non-null   float64\n",
            " 40  주산지_2_강수량(ml)    1224 non-null   float64\n",
            " 41  주산지_2_습도(%)      1224 non-null   object \n",
            " 42  일자구분_중순          1224 non-null   int64  \n",
            " 43  일자구분_초순          1224 non-null   int64  \n",
            " 44  일자구분_하순          1224 non-null   int64  \n",
            " 45  월구분_10월          1224 non-null   int64  \n",
            " 46  월구분_11월          1224 non-null   int64  \n",
            " 47  월구분_12월          1224 non-null   int64  \n",
            " 48  월구분_1월           1224 non-null   int64  \n",
            " 49  월구분_2월           1224 non-null   int64  \n",
            " 50  월구분_3월           1224 non-null   int64  \n",
            " 51  월구분_4월           1224 non-null   int64  \n",
            " 52  월구분_5월           1224 non-null   int64  \n",
            " 53  월구분_6월           1224 non-null   int64  \n",
            " 54  월구분_7월           1224 non-null   int64  \n",
            " 55  월구분_8월           1224 non-null   int64  \n",
            " 56  월구분_9월           1224 non-null   int64  \n",
            " 57  year             1224 non-null   int64  \n",
            " 58  differ           1224 non-null   float64\n",
            " 59  plus             1224 non-null   float64\n",
            " 60  kg_differ        1224 non-null   float64\n",
            " 61  m                1224 non-null   float64\n",
            " 62  sale_price       1224 non-null   float64\n",
            " 63  week_day_0       1224 non-null   uint8  \n",
            " 64  week_day_1       1224 non-null   uint8  \n",
            " 65  week_day_2       1224 non-null   uint8  \n",
            " 66  week_day_3       1224 non-null   uint8  \n",
            " 67  week_day_4       1224 non-null   uint8  \n",
            " 68  week_day_5       1224 non-null   uint8  \n",
            " 69  week_day_6       1224 non-null   uint8  \n",
            "dtypes: float64(45), int64(16), object(2), uint8(7)\n",
            "memory usage: 620.4+ KB\n"
          ]
        }
      ]
    },
    {
      "cell_type": "markdown",
      "source": [
        "22  주산지_0_습도(%)      1224 non-null   object\n",
        "\n",
        "34  주산지_2_습도(%)      1224 non-null   object\n",
        "\n",
        "주산지 : 주산지는 경상북도 청송군 주왕산면 주산지리에 있는 저수지"
      ],
      "metadata": {
        "id": "ctRgwbwmyyPZ"
      }
    },
    {
      "cell_type": "code",
      "source": [
        "train[['주산지_0_습도(%)']]\n",
        "\n",
        "train['주산지_1_습도(%)']\n",
        "\n",
        "train=train.drop(columns = ['주산지_0_습도(%)','주산지_2_습도(%)'])"
      ],
      "metadata": {
        "id": "5TTBu3fWytt-"
      },
      "execution_count": null,
      "outputs": []
    },
    {
      "cell_type": "code",
      "source": [
        "# train=train.drop(columns = ['sale_price','kg_differ']) # 'differ','plus','kg_differ','m','sale_price'"
      ],
      "metadata": {
        "id": "ubow8byLUYMo"
      },
      "execution_count": null,
      "outputs": []
    },
    {
      "cell_type": "markdown",
      "source": [
        "# validation 구축"
      ],
      "metadata": {
        "id": "5fYHZd45wXfm"
      }
    },
    {
      "cell_type": "markdown",
      "source": [
        "### feature selection - 모델 성능을 확인하면서 선택"
      ],
      "metadata": {
        "id": "k3dLrWJ0A7br"
      }
    },
    {
      "cell_type": "code",
      "source": [
        "train = train[['해당일자_전체평균가격(원)', '상위가격 평균가(원)', '하위가격 평균가(원)', '수입중량(kg)',\n",
        "              '단가(원)', '거래량', 'year','differ', 'plus','kg_differ', 'm']]"
      ],
      "metadata": {
        "id": "a386QAuPbDSn"
      },
      "execution_count": null,
      "outputs": []
    },
    {
      "cell_type": "code",
      "source": [
        "from sklearn.model_selection import train_test_split\n",
        "\n",
        "\n",
        "# 학습에 사용할 정보와 예측하고자 하는 정보를 분리합니다.\n",
        "X= train.drop(columns=['해당일자_전체평균가격(원)'])\n",
        "y= train['해당일자_전체평균가격(원)']\n",
        "\n",
        "X_train, X_valid, y_train, y_valid = train_test_split(X,y,test_size=0.2,shuffle=True)"
      ],
      "metadata": {
        "id": "z6Lo02V5zh8u"
      },
      "execution_count": null,
      "outputs": []
    },
    {
      "cell_type": "code",
      "source": [
        "y_train.head()"
      ],
      "metadata": {
        "colab": {
          "base_uri": "https://localhost:8080/"
        },
        "id": "v0gpZgiXxWcy",
        "outputId": "bdf2ff6b-58e3-40ef-c7e9-f4ad1826bfbd"
      },
      "execution_count": null,
      "outputs": [
        {
          "output_type": "execute_result",
          "data": {
            "text/plain": [
              "datadate\n",
              "20140412    1380.436364\n",
              "20160110    5370.293301\n",
              "20150209    5933.086957\n",
              "20150307    3035.313423\n",
              "20140302     603.056607\n",
              "Name: 해당일자_전체평균가격(원), dtype: float64"
            ]
          },
          "metadata": {},
          "execution_count": 1446
        }
      ]
    },
    {
      "cell_type": "code",
      "source": [
        "X_valid.head()"
      ],
      "metadata": {
        "colab": {
          "base_uri": "https://localhost:8080/",
          "height": 238
        },
        "id": "PNqEqgzgxWf5",
        "outputId": "dd2a55dd-b612-4ba9-eecc-bb45d15e9e19"
      },
      "execution_count": null,
      "outputs": [
        {
          "output_type": "execute_result",
          "data": {
            "text/plain": [
              "          상위가격 평균가(원)  하위가격 평균가(원)  수입중량(kg)     단가(원)       거래량  year  \\\n",
              "datadate                                                                 \n",
              "20131118     0.136423     0.449300  0.636983  0.172200  0.006536  2013   \n",
              "20130701     0.067106     0.358480  0.768785  0.055600  0.303624  2013   \n",
              "20160717     0.075801     0.478169  0.000000  0.084500  0.025153  2016   \n",
              "20130830     0.067171     0.168680  0.570799  0.034006  0.003763  2013   \n",
              "20150430     0.038140     0.250123  0.573778  0.035208  0.007724  2015   \n",
              "\n",
              "            differ      plus  kg_differ         m  \n",
              "datadate                                           \n",
              "20131118  0.107365  0.018906   0.286390  0.153765  \n",
              "20130701  0.046555  0.275660   0.369916  0.277937  \n",
              "20160717  0.038950  0.596865   0.619119  0.533713  \n",
              "20130830  0.073320  0.015335   0.271737  0.146971  \n",
              "20150430  0.031048  0.005177   0.279885  0.141508  "
            ],
            "text/html": [
              "\n",
              "  <div id=\"df-d841e826-dee3-4e57-a3f8-72a37b7de7cf\">\n",
              "    <div class=\"colab-df-container\">\n",
              "      <div>\n",
              "<style scoped>\n",
              "    .dataframe tbody tr th:only-of-type {\n",
              "        vertical-align: middle;\n",
              "    }\n",
              "\n",
              "    .dataframe tbody tr th {\n",
              "        vertical-align: top;\n",
              "    }\n",
              "\n",
              "    .dataframe thead th {\n",
              "        text-align: right;\n",
              "    }\n",
              "</style>\n",
              "<table border=\"1\" class=\"dataframe\">\n",
              "  <thead>\n",
              "    <tr style=\"text-align: right;\">\n",
              "      <th></th>\n",
              "      <th>상위가격 평균가(원)</th>\n",
              "      <th>하위가격 평균가(원)</th>\n",
              "      <th>수입중량(kg)</th>\n",
              "      <th>단가(원)</th>\n",
              "      <th>거래량</th>\n",
              "      <th>year</th>\n",
              "      <th>differ</th>\n",
              "      <th>plus</th>\n",
              "      <th>kg_differ</th>\n",
              "      <th>m</th>\n",
              "    </tr>\n",
              "    <tr>\n",
              "      <th>datadate</th>\n",
              "      <th></th>\n",
              "      <th></th>\n",
              "      <th></th>\n",
              "      <th></th>\n",
              "      <th></th>\n",
              "      <th></th>\n",
              "      <th></th>\n",
              "      <th></th>\n",
              "      <th></th>\n",
              "      <th></th>\n",
              "    </tr>\n",
              "  </thead>\n",
              "  <tbody>\n",
              "    <tr>\n",
              "      <th>20131118</th>\n",
              "      <td>0.136423</td>\n",
              "      <td>0.449300</td>\n",
              "      <td>0.636983</td>\n",
              "      <td>0.172200</td>\n",
              "      <td>0.006536</td>\n",
              "      <td>2013</td>\n",
              "      <td>0.107365</td>\n",
              "      <td>0.018906</td>\n",
              "      <td>0.286390</td>\n",
              "      <td>0.153765</td>\n",
              "    </tr>\n",
              "    <tr>\n",
              "      <th>20130701</th>\n",
              "      <td>0.067106</td>\n",
              "      <td>0.358480</td>\n",
              "      <td>0.768785</td>\n",
              "      <td>0.055600</td>\n",
              "      <td>0.303624</td>\n",
              "      <td>2013</td>\n",
              "      <td>0.046555</td>\n",
              "      <td>0.275660</td>\n",
              "      <td>0.369916</td>\n",
              "      <td>0.277937</td>\n",
              "    </tr>\n",
              "    <tr>\n",
              "      <th>20160717</th>\n",
              "      <td>0.075801</td>\n",
              "      <td>0.478169</td>\n",
              "      <td>0.000000</td>\n",
              "      <td>0.084500</td>\n",
              "      <td>0.025153</td>\n",
              "      <td>2016</td>\n",
              "      <td>0.038950</td>\n",
              "      <td>0.596865</td>\n",
              "      <td>0.619119</td>\n",
              "      <td>0.533713</td>\n",
              "    </tr>\n",
              "    <tr>\n",
              "      <th>20130830</th>\n",
              "      <td>0.067171</td>\n",
              "      <td>0.168680</td>\n",
              "      <td>0.570799</td>\n",
              "      <td>0.034006</td>\n",
              "      <td>0.003763</td>\n",
              "      <td>2013</td>\n",
              "      <td>0.073320</td>\n",
              "      <td>0.015335</td>\n",
              "      <td>0.271737</td>\n",
              "      <td>0.146971</td>\n",
              "    </tr>\n",
              "    <tr>\n",
              "      <th>20150430</th>\n",
              "      <td>0.038140</td>\n",
              "      <td>0.250123</td>\n",
              "      <td>0.573778</td>\n",
              "      <td>0.035208</td>\n",
              "      <td>0.007724</td>\n",
              "      <td>2015</td>\n",
              "      <td>0.031048</td>\n",
              "      <td>0.005177</td>\n",
              "      <td>0.279885</td>\n",
              "      <td>0.141508</td>\n",
              "    </tr>\n",
              "  </tbody>\n",
              "</table>\n",
              "</div>\n",
              "      <button class=\"colab-df-convert\" onclick=\"convertToInteractive('df-d841e826-dee3-4e57-a3f8-72a37b7de7cf')\"\n",
              "              title=\"Convert this dataframe to an interactive table.\"\n",
              "              style=\"display:none;\">\n",
              "        \n",
              "  <svg xmlns=\"http://www.w3.org/2000/svg\" height=\"24px\"viewBox=\"0 0 24 24\"\n",
              "       width=\"24px\">\n",
              "    <path d=\"M0 0h24v24H0V0z\" fill=\"none\"/>\n",
              "    <path d=\"M18.56 5.44l.94 2.06.94-2.06 2.06-.94-2.06-.94-.94-2.06-.94 2.06-2.06.94zm-11 1L8.5 8.5l.94-2.06 2.06-.94-2.06-.94L8.5 2.5l-.94 2.06-2.06.94zm10 10l.94 2.06.94-2.06 2.06-.94-2.06-.94-.94-2.06-.94 2.06-2.06.94z\"/><path d=\"M17.41 7.96l-1.37-1.37c-.4-.4-.92-.59-1.43-.59-.52 0-1.04.2-1.43.59L10.3 9.45l-7.72 7.72c-.78.78-.78 2.05 0 2.83L4 21.41c.39.39.9.59 1.41.59.51 0 1.02-.2 1.41-.59l7.78-7.78 2.81-2.81c.8-.78.8-2.07 0-2.86zM5.41 20L4 18.59l7.72-7.72 1.47 1.35L5.41 20z\"/>\n",
              "  </svg>\n",
              "      </button>\n",
              "      \n",
              "  <style>\n",
              "    .colab-df-container {\n",
              "      display:flex;\n",
              "      flex-wrap:wrap;\n",
              "      gap: 12px;\n",
              "    }\n",
              "\n",
              "    .colab-df-convert {\n",
              "      background-color: #E8F0FE;\n",
              "      border: none;\n",
              "      border-radius: 50%;\n",
              "      cursor: pointer;\n",
              "      display: none;\n",
              "      fill: #1967D2;\n",
              "      height: 32px;\n",
              "      padding: 0 0 0 0;\n",
              "      width: 32px;\n",
              "    }\n",
              "\n",
              "    .colab-df-convert:hover {\n",
              "      background-color: #E2EBFA;\n",
              "      box-shadow: 0px 1px 2px rgba(60, 64, 67, 0.3), 0px 1px 3px 1px rgba(60, 64, 67, 0.15);\n",
              "      fill: #174EA6;\n",
              "    }\n",
              "\n",
              "    [theme=dark] .colab-df-convert {\n",
              "      background-color: #3B4455;\n",
              "      fill: #D2E3FC;\n",
              "    }\n",
              "\n",
              "    [theme=dark] .colab-df-convert:hover {\n",
              "      background-color: #434B5C;\n",
              "      box-shadow: 0px 1px 3px 1px rgba(0, 0, 0, 0.15);\n",
              "      filter: drop-shadow(0px 1px 2px rgba(0, 0, 0, 0.3));\n",
              "      fill: #FFFFFF;\n",
              "    }\n",
              "  </style>\n",
              "\n",
              "      <script>\n",
              "        const buttonEl =\n",
              "          document.querySelector('#df-d841e826-dee3-4e57-a3f8-72a37b7de7cf button.colab-df-convert');\n",
              "        buttonEl.style.display =\n",
              "          google.colab.kernel.accessAllowed ? 'block' : 'none';\n",
              "\n",
              "        async function convertToInteractive(key) {\n",
              "          const element = document.querySelector('#df-d841e826-dee3-4e57-a3f8-72a37b7de7cf');\n",
              "          const dataTable =\n",
              "            await google.colab.kernel.invokeFunction('convertToInteractive',\n",
              "                                                     [key], {});\n",
              "          if (!dataTable) return;\n",
              "\n",
              "          const docLinkHtml = 'Like what you see? Visit the ' +\n",
              "            '<a target=\"_blank\" href=https://colab.research.google.com/notebooks/data_table.ipynb>data table notebook</a>'\n",
              "            + ' to learn more about interactive tables.';\n",
              "          element.innerHTML = '';\n",
              "          dataTable['output_type'] = 'display_data';\n",
              "          await google.colab.output.renderOutput(dataTable, element);\n",
              "          const docLink = document.createElement('div');\n",
              "          docLink.innerHTML = docLinkHtml;\n",
              "          element.appendChild(docLink);\n",
              "        }\n",
              "      </script>\n",
              "    </div>\n",
              "  </div>\n",
              "  "
            ]
          },
          "metadata": {},
          "execution_count": 1447
        }
      ]
    },
    {
      "cell_type": "code",
      "source": [
        "from sklearn.ensemble import RandomForestRegressor\n",
        "\n",
        "ppoa_model = RandomForestRegressor()\n",
        "\n",
        "ppoa_model.fit(X_train, y_train)\n",
        "\n",
        "ppoa_count_predict = ppoa_model.predict(X_valid)\n",
        "\n",
        "plt.plot(ppoa_count_predict)\n",
        "plt.show()"
      ],
      "metadata": {
        "colab": {
          "base_uri": "https://localhost:8080/",
          "height": 265
        },
        "id": "TQp-hAmnxaIl",
        "outputId": "7ad59df8-3492-4f2e-8893-3010a849642c"
      },
      "execution_count": null,
      "outputs": [
        {
          "output_type": "display_data",
          "data": {
            "text/plain": [
              "<Figure size 432x288 with 1 Axes>"
            ],
            "image/png": "[encoded data removed]"
          },
          "metadata": {}
        }
      ]
    },
    {
      "cell_type": "code",
      "source": [
        "from sklearn.metrics import mean_squared_error\n",
        "\n",
        "def rmse(pred, real):\n",
        "  return mean_squared_error(pred, real)**0.5"
      ],
      "metadata": {
        "id": "j9T-o-Dm0KaV"
      },
      "execution_count": null,
      "outputs": []
    },
    {
      "cell_type": "code",
      "source": [
        "def make_plot():\n",
        "  RMSE = rmse(ppoa_count_predict, y_valid)\n",
        "\n",
        "  plt.figure(dpi=150)\n",
        "\n",
        "  plt.title('RMSE : ' + str(RMSE)[:8])\n",
        "\n",
        "  plt.plot(y_valid.reset_index(drop=True), alpha=0.6, label='real')\n",
        "  plt.plot(ppoa_count_predict, alpha=0.6, label='pred')\n",
        "\n",
        "  plt.legend()\n",
        "  plt.show()"
      ],
      "metadata": {
        "id": "uI3LHF1Bz6mT"
      },
      "execution_count": null,
      "outputs": []
    },
    {
      "cell_type": "code",
      "source": [
        "make_plot()"
      ],
      "metadata": {
        "colab": {
          "base_uri": "https://localhost:8080/",
          "height": 572
        },
        "id": "VbKrl0Vuz6tF",
        "outputId": "6b60879d-8a24-4b88-85bf-54d14aa0da30"
      },
      "execution_count": null,
      "outputs": [
        {
          "output_type": "display_data",
          "data": {
            "text/plain": [
              "<Figure size 900x600 with 1 Axes>"
            ],
            "image/png": "[encoded data removed]"
          },
          "metadata": {}
        }
      ]
    }
  ]
}